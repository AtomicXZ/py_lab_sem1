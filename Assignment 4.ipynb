{
 "cells": [
  {
   "attachments": {},
   "cell_type": "markdown",
   "metadata": {},
   "source": [
    "# Assignment 4\n",
    "# Name: Redacted\n",
    "# Reg no: Redacted"
   ]
  },
  {
   "attachments": {},
   "cell_type": "markdown",
   "metadata": {
    "tags": []
   },
   "source": [
    "## Q. 1\n",
    "    Palindrome"
   ]
  },
  {
   "cell_type": "code",
   "execution_count": 1,
   "metadata": {},
   "outputs": [
    {
     "name": "stdout",
     "output_type": "stream",
     "text": [
      "Palindrome\n"
     ]
    }
   ],
   "source": [
    "def reverse_number(num: int, out: int = 0) -> int:\n",
    "    if not num:\n",
    "        return out\n",
    "    else:\n",
    "        return reverse_number(num // 10, out * 10 + num % 10)\n",
    "\n",
    "\n",
    "num = 15351  #int(input(\"Enter num:  \"))\n",
    "if abs(num) == reverse_number(abs(num)):\n",
    "    print(\"Palindrome\")\n",
    "else:\n",
    "    print(\"Not palindrome\")"
   ]
  },
  {
   "attachments": {},
   "cell_type": "markdown",
   "metadata": {},
   "source": [
    "## Q. 2\n",
    "    Fibonacci"
   ]
  },
  {
   "cell_type": "code",
   "execution_count": 2,
   "metadata": {},
   "outputs": [
    {
     "name": "stdout",
     "output_type": "stream",
     "text": [
      "0 1 1 2 3 5 8 13 21 34 "
     ]
    }
   ],
   "source": [
    "def fib(n: int, first: int = 0, second: int = 1) -> None:\n",
    "    if not n:\n",
    "        pass\n",
    "    else:\n",
    "        print(first, end=\" \")\n",
    "        fib(n - 1, second, first + second)\n",
    "\n",
    "\n",
    "fib(10)"
   ]
  },
  {
   "attachments": {},
   "cell_type": "markdown",
   "metadata": {},
   "source": [
    "## Q. 3\n",
    "    Reverse Fibonnaci"
   ]
  },
  {
   "cell_type": "code",
   "execution_count": 3,
   "metadata": {
    "tags": []
   },
   "outputs": [
    {
     "name": "stdout",
     "output_type": "stream",
     "text": [
      "50 20 -30 -50 -20 30 50 20 -30 -50 "
     ]
    }
   ],
   "source": [
    "def reverse_fibonacci(first: int, second: int, num_terms: int) -> None:\n",
    "    if not num_terms:\n",
    "        return\n",
    "    else:\n",
    "        print(first, end=\" \")\n",
    "        reverse_fibonacci(second, second - first, num_terms - 1)\n",
    "\n",
    "\n",
    "first = 50  #int(input(\"Enter first number: \"))\n",
    "second = 20  #int(input(\"Enter second number: \"))\n",
    "num_terms = 10  #int(input(\"Enter the number of terms: \"))\n",
    "reverse_fibonacci(first, second, num_terms)"
   ]
  },
  {
   "attachments": {},
   "cell_type": "markdown",
   "metadata": {},
   "source": [
    "## Q. 4\n",
    "    Armstrong"
   ]
  },
  {
   "cell_type": "code",
   "execution_count": 4,
   "metadata": {
    "tags": []
   },
   "outputs": [
    {
     "name": "stdout",
     "output_type": "stream",
     "text": [
      "Armstrong\n"
     ]
    }
   ],
   "source": [
    "def armstrong(num: int, numdig: int = None) -> bool:\n",
    "    if numdig is None:\n",
    "        numdig = len(str(num))\n",
    "    if not num:\n",
    "        return num\n",
    "    else:\n",
    "        return (num % 10)**numdig + armstrong(num // 10, numdig)\n",
    "\n",
    "\n",
    "num = 153  #abs(int(input(\"Enter num:  \")))\n",
    "if num == armstrong(num):\n",
    "    print(\"Armstrong\")\n",
    "else:\n",
    "    print(\"Not armstrong\")"
   ]
  },
  {
   "attachments": {},
   "cell_type": "markdown",
   "metadata": {
    "tags": []
   },
   "source": [
    "## Q. 5\n",
    "    Custom implementations of rstrip, lstrip, strip functions for strings"
   ]
  },
  {
   "cell_type": "code",
   "execution_count": 5,
   "metadata": {},
   "outputs": [],
   "source": [
    "def strip_right(st: str, char: str = \" \") -> str:\n",
    "    '''This function removes all the trailing specified characters from a given string.\n",
    "    By default, the character removed is a white space.'''\n",
    "    if st[-1] != char:\n",
    "        return st\n",
    "    else:\n",
    "        return strip_right(st[:-1], char)\n",
    "\n",
    "\n",
    "def strip_left(st: str, char: str = \" \") -> str:\n",
    "    '''This function removes all the leading specified characters from a given string.\n",
    "    By default, the character removed is a white space.'''\n",
    "    if st[0] != char:\n",
    "        return st\n",
    "    else:\n",
    "        return strip_left(st[1:], char)\n",
    "\n",
    "\n",
    "def strip_all(st: str, char: str = \" \") -> str:\n",
    "    '''This function removes all the leading and trailing specified characters from a given string.\n",
    "    By default, the character removed is a white space.'''\n",
    "    return strip_left(strip_right(st, char), char)\n"
   ]
  },
  {
   "attachments": {},
   "cell_type": "markdown",
   "metadata": {},
   "source": [
    "## Q. 6\n",
    "    Number to english words"
   ]
  },
  {
   "cell_type": "code",
   "execution_count": 6,
   "metadata": {},
   "outputs": [
    {
     "name": "stdout",
     "output_type": "stream",
     "text": [
      "Forty One Million One Hundred Twenty Four Thousand One Hundred Twenty Three\n"
     ]
    }
   ],
   "source": [
    "numbers = {\n",
    "    0: \"Zero\",\n",
    "    1: \"One\",\n",
    "    2: \"Two\",\n",
    "    3: \"Three\",\n",
    "    4: \"Four\",\n",
    "    5: \"Five\",\n",
    "    6: \"Six\",\n",
    "    7: \"Seven\",\n",
    "    8: \"Eight\",\n",
    "    9: \"Nine\",\n",
    "    10: \"Ten\",\n",
    "    11: \"Eleven\",\n",
    "    12: \"Twelve\",\n",
    "    13: \"Thirteen\",\n",
    "    14: \"Fourteen\",\n",
    "    15: \"Fifteen\",\n",
    "    16: \"Sixteen\",\n",
    "    17: \"Seventeen\",\n",
    "    18: \"Eighteen\",\n",
    "    19: \"Nineteen\",\n",
    "    20: \"Twenty\",\n",
    "    30: \"Thirty\",\n",
    "    40: \"Forty\",\n",
    "    50: \"Fifty\",\n",
    "    60: \"Sixty\",\n",
    "    70: \"Seventy\",\n",
    "    80: \"Eighty\",\n",
    "    90: \"Ninety\"\n",
    "}\n",
    "\n",
    "powers_of_10 = {\n",
    "    \"Thousand\": 10**3,\n",
    "    \"Million\": 10**6,\n",
    "    \"Billion\": 10**9,\n",
    "    \"Trillion\": 10**12,\n",
    "    \"Quadrillion\": 10**15,\n",
    "    \"Quintillion\": 10**18,\n",
    "    \"Sextillion\": 10**21,\n",
    "    \"Septillion\": 10**24,\n",
    "    \"Octillion\": 10**27,\n",
    "    \"Nonillion\": 10**30\n",
    "}\n",
    "\n",
    "\n",
    "def numberToWords(num: int, start=True) -> str:\n",
    "    if num == 0 and start:\n",
    "        return (numbers[num]).strip()\n",
    "    if num < 10:\n",
    "        return (numbers[num]).strip() if num != 0 else \"\"\n",
    "    elif num < 100:\n",
    "        return (numbers.get(\n",
    "            num, numbers[num - num % 10] + \" \" +\n",
    "            numberToWords(num % 10, False))).strip()\n",
    "    elif num < 1000:\n",
    "        return (numbers[num // 100].rstrip() + \" Hundred \" +\n",
    "                (numberToWords(num % 100) if num % 100 != 0 else \"\").lstrip()\n",
    "                ).strip()\n",
    "    else:\n",
    "        for name, value in powers_of_10.items():\n",
    "            if num < value * 10**3:\n",
    "                return (numberToWords(num // value, False).rstrip() +\n",
    "                        f\" {name} \" +\n",
    "                        numberToWords(num % value, False).lstrip()).strip()\n",
    "\n",
    "\n",
    "print(numberToWords(41124123))"
   ]
  },
  {
   "attachments": {},
   "cell_type": "markdown",
   "metadata": {},
   "source": [
    "## Q. 7\n",
    "    Custom implementation of str.split method"
   ]
  },
  {
   "cell_type": "code",
   "execution_count": 7,
   "metadata": {},
   "outputs": [
    {
     "name": "stdout",
     "output_type": "stream",
     "text": [
      "['Problem', 'Solving', 'Using', 'Python', 'my']\n"
     ]
    }
   ],
   "source": [
    "def my_split(s: str, sep: str = \" \") -> list[str]:\n",
    "    return_list = []\n",
    "    cur_word = \"\"\n",
    "    for char in s:\n",
    "        if char == sep:\n",
    "            if cur_word: return_list.append(cur_word)\n",
    "            cur_word = \"\"\n",
    "        else:\n",
    "            cur_word += char\n",
    "    if cur_word: return_list.append(cur_word)\n",
    "\n",
    "    return return_list\n",
    "\n",
    "\n",
    "print(my_split(\"Problem Solving Using Python                  my\"))"
   ]
  },
  {
   "attachments": {},
   "cell_type": "markdown",
   "metadata": {},
   "source": [
    "## Q. 8\n",
    "    Sum of carries"
   ]
  },
  {
   "cell_type": "code",
   "execution_count": 8,
   "metadata": {},
   "outputs": [
    {
     "name": "stdout",
     "output_type": "stream",
     "text": [
      "4\n"
     ]
    }
   ],
   "source": [
    "def sum_of_carries(n1: int, n2: int) -> int:\n",
    "    carry = 0\n",
    "    sum_of_carry = 0\n",
    "    while (n1 != 0 or n2 != 0):\n",
    "        carry = (n1 % 10 + n2 % 10 + carry) // 10\n",
    "        sum_of_carry += carry\n",
    "        n1 = n1 // 10\n",
    "        n2 = n2 // 10\n",
    "    return sum_of_carry\n",
    "\n",
    "\n",
    "print(sum_of_carries(9999, 1))"
   ]
  },
  {
   "attachments": {},
   "cell_type": "markdown",
   "metadata": {},
   "source": [
    "## Q. 9\n",
    "    Simple Calculator"
   ]
  },
  {
   "cell_type": "code",
   "execution_count": 9,
   "metadata": {},
   "outputs": [
    {
     "name": "stdout",
     "output_type": "stream",
     "text": [
      "72 * 2 = 144\n"
     ]
    }
   ],
   "source": [
    "def calculator(num1: float, num2: float, operator: str) -> float:\n",
    "    if operator == \"+\":\n",
    "        return num1 + num2\n",
    "    elif operator == \"-\":\n",
    "        return num1 - num2\n",
    "    elif operator == \"*\":\n",
    "        return num1 * num2\n",
    "    elif operator == \"/\":\n",
    "        return num1 / num2\n",
    "    else:\n",
    "        return \"Invalid operator\"\n",
    "\n",
    "\n",
    "# Example usage\n",
    "num1 = 72\n",
    "num2 = 2\n",
    "operator = \"*\"\n",
    "result = calculator(num1, num2, operator)\n",
    "print(f\"{num1} {operator} {num2} = {result}\"\n",
    "      if result != \"Invalid operator\" else \"Invalid operator\")\n"
   ]
  },
  {
   "attachments": {},
   "cell_type": "markdown",
   "metadata": {},
   "source": [
    "## Q. 10\n",
    "    Sum of digits (odd or even)"
   ]
  },
  {
   "cell_type": "code",
   "execution_count": 10,
   "metadata": {},
   "outputs": [
    {
     "name": "stdout",
     "output_type": "stream",
     "text": [
      "Even\n"
     ]
    }
   ],
   "source": [
    "def sum_is_odd(num: int, sum: int = 0) -> bool:\n",
    "    if num == 0:\n",
    "        return sum % 2\n",
    "    else:\n",
    "        return sum_is_odd(num // 10, sum + num % 10)\n",
    "\n",
    "\n",
    "n = 451\n",
    "print(\"Odd\" if sum_is_odd(n) else \"Even\")"
   ]
  },
  {
   "attachments": {},
   "cell_type": "markdown",
   "metadata": {},
   "source": [
    "## Q. 11\n",
    "    Check whether strings are reverse of each other"
   ]
  },
  {
   "cell_type": "code",
   "execution_count": 11,
   "metadata": {},
   "outputs": [
    {
     "name": "stdout",
     "output_type": "stream",
     "text": [
      "Reverse\n"
     ]
    }
   ],
   "source": [
    "def rev(s: str, t: str) -> bool:\n",
    "    if len(s) != len(t): return False\n",
    "\n",
    "    rev_t = \"\".join([t[i] for i in range(-1, -len(t) - 1, -1)])\n",
    "    return s == rev_t\n",
    "\n",
    "\n",
    "if rev(\"aaab\", \"baaa\"):\n",
    "    print(\"Reverse\")\n",
    "else:\n",
    "    print(\"Not reverse\")"
   ]
  },
  {
   "attachments": {},
   "cell_type": "markdown",
   "metadata": {},
   "source": [
    "## Q. 12\n",
    "    Check whether string is palindrome"
   ]
  },
  {
   "cell_type": "code",
   "execution_count": 12,
   "metadata": {},
   "outputs": [
    {
     "name": "stdout",
     "output_type": "stream",
     "text": [
      "Palindrome\n"
     ]
    }
   ],
   "source": [
    "def palindrome(s: str) -> bool:\n",
    "    rev_s = \"\".join([s[i] for i in range(-1, -len(s) - 1, -1)])\n",
    "    return s == rev_s\n",
    "\n",
    "\n",
    "print(\"Palindrome\" if palindrome(\"AbbA\") else \"Not a palindrome\")"
   ]
  },
  {
   "attachments": {},
   "cell_type": "markdown",
   "metadata": {},
   "source": [
    "## Q. 13\n",
    "    Custom ceaser cipher where numbers also shift by the key value. And a decipher function to decipher the ceaser cipher"
   ]
  },
  {
   "cell_type": "code",
   "execution_count": 2,
   "metadata": {},
   "outputs": [
    {
     "name": "stdout",
     "output_type": "stream",
     "text": [
      "Nkrru, se tgsk oy Xgrvn. O's 79 ekgxy urj.\n",
      "Hello, my name is Ralph. I'm 13 years old.\n"
     ]
    }
   ],
   "source": [
    "def custom_ceaser_cipher(s: str, key: int = 1) -> str:\n",
    "    cipher_str = \"\"\n",
    "\n",
    "    for char in s:\n",
    "        if char.isalpha():\n",
    "            char_to_add = ord(char)\n",
    "            if 65 <= char_to_add <= 90:\n",
    "                char_to_add = chr((char_to_add + key - 65) % 26 + 65)\n",
    "                cipher_str += char_to_add\n",
    "            else:\n",
    "                char_to_add = chr((char_to_add + key - 97) % 26 + 97)\n",
    "                cipher_str += char_to_add\n",
    "        elif char.isnumeric():\n",
    "            char_to_add = (int(char) + key) % 10\n",
    "            cipher_str += str(char_to_add)\n",
    "        else:\n",
    "            cipher_str += char\n",
    "\n",
    "    return cipher_str\n",
    "\n",
    "\n",
    "def custom_ceaser_decipher(s: str, key: int = 1) -> str:\n",
    "    return custom_ceaser_cipher(s, -key)\n",
    "\n",
    "\n",
    "print(custom_ceaser_cipher(\"Hello, my name is Ralph. I'm 13 years old.\", 6))\n",
    "print(custom_ceaser_decipher(\"Nkrru, se tgsk oy Xgrvn. O's 79 ekgxy urj.\",6))\n"
   ]
  },
  {
   "attachments": {},
   "cell_type": "markdown",
   "metadata": {},
   "source": [
    "## Q. 14\n",
    "    Tax calculator (2020-21 slab India)"
   ]
  },
  {
   "cell_type": "code",
   "execution_count": 14,
   "metadata": {},
   "outputs": [
    {
     "name": "stdout",
     "output_type": "stream",
     "text": [
      "Income tax = 61300.00\n"
     ]
    }
   ],
   "source": [
    "def tax_calculator(moni: float) -> float:\n",
    "    if 0 > moni <= 300000:\n",
    "        return 0\n",
    "    elif moni <= 500000:\n",
    "        return (moni - 300000) * 0.05\n",
    "    elif moni <= 1000000:\n",
    "        return 10000 + (moni - 500000) * 0.2\n",
    "    elif moni > 1000000:\n",
    "        return 110000 + (moni - 1000000) * 0.3\n",
    "    else:\n",
    "        print(\"Invalid input.\")\n",
    "        return\n",
    "\n",
    "\n",
    "moni = 756500\n",
    "tax = tax_calculator(moni)\n",
    "if tax is not None:\n",
    "    print(f\"Income tax = {tax:.2f}\")"
   ]
  },
  {
   "attachments": {},
   "cell_type": "markdown",
   "metadata": {},
   "source": [
    "## Q. 15\n",
    "    Hexadecimal to decimal"
   ]
  },
  {
   "cell_type": "code",
   "execution_count": 15,
   "metadata": {},
   "outputs": [
    {
     "name": "stdout",
     "output_type": "stream",
     "text": [
      "2255\n"
     ]
    }
   ],
   "source": [
    "values = {\n",
    "    '0': 0,\n",
    "    '1': 1,\n",
    "    '2': 2,\n",
    "    '3': 3,\n",
    "    '4': 4,\n",
    "    '5': 5,\n",
    "    '6': 6,\n",
    "    '7': 7,\n",
    "    '8': 8,\n",
    "    '9': 9,\n",
    "    'A': 10,\n",
    "    'B': 11,\n",
    "    'C': 12,\n",
    "    'D': 13,\n",
    "    'E': 14,\n",
    "    'F': 15\n",
    "}\n",
    "\n",
    "\n",
    "def hexa(s: int) -> int:\n",
    "    power = len(s) - 1\n",
    "    out = 0\n",
    "\n",
    "    for ch in s:\n",
    "        out += values[ch] * 16**power\n",
    "        power -= 1\n",
    "\n",
    "    return out\n",
    "\n",
    "\n",
    "print(hexa(\"8CF\"))"
   ]
  },
  {
   "attachments": {},
   "cell_type": "markdown",
   "metadata": {},
   "source": [
    "## Q. 16\n",
    "    Check if number is prime"
   ]
  },
  {
   "cell_type": "code",
   "execution_count": 16,
   "metadata": {},
   "outputs": [
    {
     "name": "stdout",
     "output_type": "stream",
     "text": [
      "None\n",
      "True\n"
     ]
    }
   ],
   "source": [
    "def is_prime(num: int) -> bool:\n",
    "    if num < 2: return\n",
    "    for i in range(2, num // 2 + 1):\n",
    "        if num % i == 0:\n",
    "            return False\n",
    "    return True\n",
    "\n",
    "\n",
    "print(is_prime(1))\n",
    "print(is_prime(67))"
   ]
  },
  {
   "attachments": {},
   "cell_type": "markdown",
   "metadata": {},
   "source": [
    "## Q. 17\n",
    "    Isomorphic Strings - Two strings s and t are isomorphic if the characters in s can be replaced to get t."
   ]
  },
  {
   "cell_type": "code",
   "execution_count": 17,
   "metadata": {},
   "outputs": [
    {
     "name": "stdout",
     "output_type": "stream",
     "text": [
      "True\n",
      "False\n"
     ]
    }
   ],
   "source": [
    "def isIsomorphic(s: str, t: str) -> bool:\n",
    "    st = []\n",
    "    ts = []\n",
    "    for i in s:\n",
    "        st.append(s.index(i))\n",
    "    for j in t:\n",
    "        ts.append(t.index(j))\n",
    "    return st == ts\n",
    "\n",
    "\n",
    "print(isIsomorphic(\"paper\", \"title\"))\n",
    "print(isIsomorphic(\"foo\", \"var\"))"
   ]
  },
  {
   "attachments": {},
   "cell_type": "markdown",
   "metadata": {},
   "source": [
    "## Q. 18\n",
    "    String is Subsequence - A subsequence of a string is a new string that is formed from the original string by deleting some (can be none) of the characters without disturbing the relative positions of the remaining characters."
   ]
  },
  {
   "cell_type": "code",
   "execution_count": 18,
   "metadata": {},
   "outputs": [
    {
     "name": "stdout",
     "output_type": "stream",
     "text": [
      "True\n",
      "False\n"
     ]
    }
   ],
   "source": [
    "def isSubsequence(s: str, t: str) -> bool:\n",
    "    if not len(s): return True\n",
    "    schar = 0\n",
    "    found = 0\n",
    "    for i in t:\n",
    "        if schar >= len(s): break\n",
    "        if i == s[schar]:\n",
    "            schar += 1\n",
    "            found += 1\n",
    "    return found == len(s)\n",
    "\n",
    "\n",
    "print(isSubsequence(\"abc\", \"ahbgdc\"))\n",
    "print(isSubsequence(\"axc\", \"ahbgdc\"))\n"
   ]
  },
  {
   "attachments": {},
   "cell_type": "markdown",
   "metadata": {},
   "source": [
    "## Q. 19\n",
    "    String is anagram"
   ]
  },
  {
   "cell_type": "code",
   "execution_count": 19,
   "metadata": {},
   "outputs": [
    {
     "name": "stdout",
     "output_type": "stream",
     "text": [
      "True\n",
      "False\n"
     ]
    }
   ],
   "source": [
    "def isAnagram(s, t):\n",
    "    if len(s) != len(t):\n",
    "        return False\n",
    "    for ch in set(s):\n",
    "        if s.count(ch) != t.count(ch):\n",
    "            return False\n",
    "    return True\n",
    "\n",
    "\n",
    "print(isAnagram(s=\"anagram\", t=\"nagaram\"))\n",
    "print(isAnagram(s=\"rat\", t=\"car\"))\n"
   ]
  },
  {
   "attachments": {},
   "cell_type": "markdown",
   "metadata": {},
   "source": [
    "## Q. 20\n",
    "    Check if numbers in a string are in strictly ascending order"
   ]
  },
  {
   "cell_type": "code",
   "execution_count": 20,
   "metadata": {},
   "outputs": [
    {
     "name": "stdout",
     "output_type": "stream",
     "text": [
      "True\n",
      "False\n"
     ]
    }
   ],
   "source": [
    "import re\n",
    "\n",
    "\n",
    "def areNumbersAscending(s: str) -> bool:\n",
    "    nums = re.findall(\"[+\\-]?\\d+\", s)\n",
    "    check = int(nums[0])\n",
    "    for num in nums[1:]:\n",
    "        if int(num) <= check:\n",
    "            return False\n",
    "        else:\n",
    "            check = int(num)\n",
    "    else:\n",
    "        return True\n",
    "\n",
    "\n",
    "print(\n",
    "    areNumbersAscending(\n",
    "        \"1 box has 3 blue 4 red 6 green and 12 yellow marbles\"))\n",
    "print(areNumbersAscending(\"hello world 5 x 5\"))"
   ]
  },
  {
   "attachments": {},
   "cell_type": "markdown",
   "metadata": {},
   "source": [
    "## Q. 21\n",
    "    Longest Common Prefix"
   ]
  },
  {
   "cell_type": "code",
   "execution_count": 21,
   "metadata": {},
   "outputs": [
    {
     "name": "stdout",
     "output_type": "stream",
     "text": [
      "fl\n",
      "dddd\n"
     ]
    }
   ],
   "source": [
    "def longestCommonPrefix(strs: list[str]) -> str:\n",
    "    common_index = 0\n",
    "    strs.sort(key=len)\n",
    "    for i in range(len(strs[0])):\n",
    "        check = True\n",
    "        char = strs[0][i]\n",
    "        for j in strs:\n",
    "            if j[i] != char:\n",
    "                check = False\n",
    "                break\n",
    "        if check:\n",
    "            common_index += 1\n",
    "        else:\n",
    "            break\n",
    "\n",
    "    return strs[0][:common_index]\n",
    "\n",
    "\n",
    "print(longestCommonPrefix([\"flower\", \"flow\", \"flight\"]))\n",
    "print(longestCommonPrefix([\"ddddog\", \"ddddracecar\", \"ddddcar\"]))\n"
   ]
  },
  {
   "attachments": {},
   "cell_type": "markdown",
   "metadata": {},
   "source": [
    "## Q. 22\n",
    "    Length of Last Word"
   ]
  },
  {
   "cell_type": "code",
   "execution_count": 22,
   "metadata": {},
   "outputs": [
    {
     "name": "stdout",
     "output_type": "stream",
     "text": [
      "4\n",
      "5\n"
     ]
    }
   ],
   "source": [
    "def lengthOfLastWord(s: str) -> int:\n",
    "    n = 0\n",
    "    for i in s[::-1]:\n",
    "        if i != \" \":\n",
    "            n += 1\n",
    "        elif i == \" \" and n > 0:\n",
    "            return n\n",
    "    else:\n",
    "        return n\n",
    "\n",
    "\n",
    "print(lengthOfLastWord(\"   fly me   to   the moon  \"))  # moon -> 4\n",
    "print(lengthOfLastWord(\"Hello World\"))  # World -> 5\n"
   ]
  },
  {
   "attachments": {},
   "cell_type": "markdown",
   "metadata": {},
   "source": [
    "## Q. 23\n",
    "    Loss on non-paired gloves"
   ]
  },
  {
   "cell_type": "code",
   "execution_count": 23,
   "metadata": {},
   "outputs": [
    {
     "name": "stdout",
     "output_type": "stream",
     "text": [
      "Glove #40 is unpaired.\n",
      "Glove #30 is unpaired.\n",
      "Loss is Rs. 70\n"
     ]
    }
   ],
   "source": [
    "# Using Lists, Time complexity O(n^2)\n",
    "\"\"\"def group_gloves(string: str) -> list[list]:\n",
    "    if not string:return\n",
    "    string = string.split(\" \")\n",
    "    grouped_list = []\n",
    "    for char in string:\n",
    "        found = False\n",
    "        for inlist in grouped_list:\n",
    "            if char == inlist[0]:\n",
    "                inlist[1] += 1\n",
    "                found = True\n",
    "                break\n",
    "        if not found:\n",
    "            grouped_list.append([char, 1])\n",
    "    return grouped_list\"\"\"\n",
    "\n",
    "\n",
    "# Using dictionary, Time complexity O(n)\n",
    "def group_gloves(string: str) -> list[list]:\n",
    "    string = [i for i in string.split(\" \") if i]\n",
    "    grouped_list = {}\n",
    "    for char in string:\n",
    "        if char in grouped_list:\n",
    "            grouped_list[char] += 1\n",
    "        else:\n",
    "            grouped_list[char] = 1\n",
    "    return list(grouped_list.items())\n",
    "\n",
    "\n",
    "gloves = group_gloves(\"10 10 10 10 40 40 40 30 50 50\")\n",
    "loss = 0\n",
    "for glove in gloves:\n",
    "    if glove[1] % 2:\n",
    "        loss += int(glove[0])\n",
    "        print(f\"Glove #{glove[0]} is unpaired.\")\n",
    "\n",
    "print(f\"Loss is Rs. {loss}\")"
   ]
  },
  {
   "attachments": {},
   "cell_type": "markdown",
   "metadata": {},
   "source": [
    "## Q. 24\n",
    "    Return Unique characters in a string"
   ]
  },
  {
   "cell_type": "code",
   "execution_count": 24,
   "metadata": {},
   "outputs": [
    {
     "name": "stdout",
     "output_type": "stream",
     "text": [
      "['r', ' ', 'l', 'd', 'H', 'o', 'e', 'W', '.']\n"
     ]
    }
   ],
   "source": [
    "def unique(string: str) -> list[str]:\n",
    "    return list(set(string))\n",
    "\n",
    "\n",
    "print(unique(\"Hello World. Hello World.\"))"
   ]
  },
  {
   "attachments": {},
   "cell_type": "markdown",
   "metadata": {},
   "source": [
    "## Q. 25 \n",
    "    Hailstone Sequence"
   ]
  },
  {
   "cell_type": "code",
   "execution_count": 25,
   "metadata": {},
   "outputs": [
    {
     "name": "stdout",
     "output_type": "stream",
     "text": [
      "7, 22, 11, 34, 17, 52, 26, 13, 40, 20, 10, 5, 16, 8, 4, 2, 1\n",
      "21, 64, 32, 16, 8, 4, 2, 1\n"
     ]
    }
   ],
   "source": [
    "def hailstone(num: int) -> None:\n",
    "    if num == 1:\n",
    "        print(num)\n",
    "        return\n",
    "    else:\n",
    "        print(num, end=\", \")\n",
    "        return hailstone(num * 3 + 1 if num % 2 else num // 2)\n",
    "\n",
    "\n",
    "hailstone(7)\n",
    "hailstone(21)"
   ]
  },
  {
   "attachments": {},
   "cell_type": "markdown",
   "metadata": {},
   "source": [
    "## Q. 26\n",
    "    Bank account"
   ]
  },
  {
   "cell_type": "code",
   "execution_count": 26,
   "metadata": {},
   "outputs": [
    {
     "name": "stdout",
     "output_type": "stream",
     "text": [
      "1. Create Account\n",
      "2. Deposit Money\n",
      "3. Withdraw Money\n",
      "4. Check Balance\n",
      "5. Exit\n"
     ]
    },
    {
     "name": "stdout",
     "output_type": "stream",
     "text": [
      "Enter your choice (int):   1\n"
     ]
    },
    {
     "name": "stdout",
     "output_type": "stream",
     "text": [
      "You chose 1. Create Account\n"
     ]
    },
    {
     "name": "stdout",
     "output_type": "stream",
     "text": [
      "Enter Name:   Achyut\n"
     ]
    },
    {
     "name": "stdout",
     "output_type": "stream",
     "text": [
      "Account Achyut has been created with an initial balance of ₹0\n",
      "1. Create Account\n",
      "2. Deposit Money\n",
      "3. Withdraw Money\n",
      "4. Check Balance\n",
      "5. Exit\n"
     ]
    },
    {
     "name": "stdout",
     "output_type": "stream",
     "text": [
      "Enter your choice (int):   2\n"
     ]
    },
    {
     "name": "stdout",
     "output_type": "stream",
     "text": [
      "You chose 2. Deposit Money\n"
     ]
    },
    {
     "name": "stdout",
     "output_type": "stream",
     "text": [
      "Enter Name:   Achyut\n",
      "Enter amount to deposit:  10000\n"
     ]
    },
    {
     "name": "stdout",
     "output_type": "stream",
     "text": [
      "₹10000.0 has been deposited to account Achyut\n",
      "1. Create Account\n",
      "2. Deposit Money\n",
      "3. Withdraw Money\n",
      "4. Check Balance\n",
      "5. Exit\n"
     ]
    },
    {
     "name": "stdout",
     "output_type": "stream",
     "text": [
      "Enter your choice (int):   3\n"
     ]
    },
    {
     "name": "stdout",
     "output_type": "stream",
     "text": [
      "You chose 3. Withdraw Money\n"
     ]
    },
    {
     "name": "stdout",
     "output_type": "stream",
     "text": [
      "Enter Name:   Achyut\n",
      "Enter amount to withdraw:  100\n"
     ]
    },
    {
     "name": "stdout",
     "output_type": "stream",
     "text": [
      "₹100.0 has been withdrawn from account Achyut\n",
      "1. Create Account\n",
      "2. Deposit Money\n",
      "3. Withdraw Money\n",
      "4. Check Balance\n",
      "5. Exit\n"
     ]
    },
    {
     "name": "stdout",
     "output_type": "stream",
     "text": [
      "Enter your choice (int):   4\n"
     ]
    },
    {
     "name": "stdout",
     "output_type": "stream",
     "text": [
      "You chose 4. Check Balance\n"
     ]
    },
    {
     "name": "stdout",
     "output_type": "stream",
     "text": [
      "Enter Name:   Achyut\n"
     ]
    },
    {
     "name": "stdout",
     "output_type": "stream",
     "text": [
      "The current balance of account Achyut is ₹9900.0\n",
      "1. Create Account\n",
      "2. Deposit Money\n",
      "3. Withdraw Money\n",
      "4. Check Balance\n",
      "5. Exit\n"
     ]
    },
    {
     "name": "stdout",
     "output_type": "stream",
     "text": [
      "Enter your choice (int):   5\n"
     ]
    },
    {
     "name": "stdout",
     "output_type": "stream",
     "text": [
      "You chose 5. Exit\n"
     ]
    }
   ],
   "source": [
    "accounts = {}\n",
    "\n",
    "\n",
    "def create_account(account_name):\n",
    "    accounts[account_name] = 0\n",
    "    print(\n",
    "        f'Account {account_name} has been created with an initial balance of ₹0'\n",
    "    )\n",
    "\n",
    "\n",
    "def deposit(account_name, amount):\n",
    "    accounts[account_name] += amount\n",
    "    print(f'₹{amount} has been deposited to account {account_name}')\n",
    "\n",
    "\n",
    "def withdraw(account_name, amount):\n",
    "    if accounts[account_name] < amount:\n",
    "        print(f'Insufficient balance in account {account_name}')\n",
    "    else:\n",
    "        accounts[account_name] -= amount\n",
    "        print(f'₹{amount} has been withdrawn from account {account_name}')\n",
    "\n",
    "\n",
    "def check_balance(account_name):\n",
    "    print(\n",
    "        f'The current balance of account {account_name} is ₹{accounts[account_name]}'\n",
    "    )\n",
    "\n",
    "\n",
    "def choose(choices):\n",
    "    for ind, choice in enumerate(choices):\n",
    "        print(f\"{ind+1}. {choice}\")\n",
    "\n",
    "    opt = int(input(\"Enter your choice (int):  \")) - 1\n",
    "    print(f\"You chose {opt+1}. {choices[opt]}\")\n",
    "    return opt\n",
    "\n",
    "\n",
    "functions = [\n",
    "    \"Create Account\", \"Deposit Money\", \"Withdraw Money\", \"Check Balance\",\n",
    "    \"Exit\"\n",
    "]\n",
    "\n",
    "while True:\n",
    "    choice = choose(functions)\n",
    "\n",
    "    if choice == 0:\n",
    "        create_account(input(\"Enter Name:  \"))\n",
    "    elif choice == 1:\n",
    "        deposit(input(\"Enter Name:  \"),\n",
    "                float(input(\"Enter amount to deposit: \")))\n",
    "    elif choice == 2:\n",
    "        withdraw(input(\"Enter Name:  \"),\n",
    "                 float(input(\"Enter amount to withdraw: \")))\n",
    "    elif choice == 3:\n",
    "        check_balance(input(\"Enter Name:  \"))\n",
    "    elif choice == 4:\n",
    "        break\n",
    "    else:\n",
    "        print(\"Invalid input.\")\n"
   ]
  },
  {
   "attachments": {},
   "cell_type": "markdown",
   "metadata": {},
   "source": [
    "## Q. 27\n",
    "    Pi series"
   ]
  },
  {
   "cell_type": "code",
   "execution_count": 27,
   "metadata": {},
   "outputs": [
    {
     "name": "stdout",
     "output_type": "stream",
     "text": [
      "3.140592653839794\n"
     ]
    }
   ],
   "source": [
    "def pi_series(n: int) -> float:\n",
    "    sum = 0\n",
    "    sign = 1\n",
    "    for i in range(n):\n",
    "        sum += sign * 4 / (2 * i + 1)\n",
    "        sign = -sign\n",
    "    return sum\n",
    "\n",
    "\n",
    "print(pi_series(1000))"
   ]
  },
  {
   "attachments": {},
   "cell_type": "markdown",
   "metadata": {},
   "source": [
    "## Q. 28\n",
    "    Knight - Queen collision"
   ]
  },
  {
   "cell_type": "code",
   "execution_count": 28,
   "metadata": {},
   "outputs": [
    {
     "name": "stdout",
     "output_type": "stream",
     "text": [
      "Collision.\n"
     ]
    }
   ],
   "source": [
    "def knight_queen_collision(xq: str, yq: str, xk: str, yk: str) -> None:\n",
    "    if xq <= 8 and yq <= 8 and xk <= 8 and yk <= 8:\n",
    "        if (xq == xk) or (yq == yk) or (abs(xq - xk) == abs(yq - yk)) or (\n",
    "                abs(xq - xk) == 1\n",
    "                and abs(yq - yk) == 2) or (abs(xq - xk) == 2\n",
    "                                           and abs(yq - yk) == 1):\n",
    "            print(\"Collision.\")\n",
    "        else:\n",
    "            print(\"No collision.\")\n",
    "    else:\n",
    "        print(\"Invalid position.\")\n",
    "\n",
    "\n",
    "xq = 4  # int(input(\"Enter x position of Queen:  \"))\n",
    "yq = 5  # int(input(\"Enter y position of Queen:  \"))\n",
    "xk = 7  # int(input(\"Enter x position of Knight:  \"))\n",
    "yk = 5  # int(input(\"Enter y position of Knight:  \"))\n",
    "\n",
    "knight_queen_collision(xq, yq, xk, yk)"
   ]
  },
  {
   "attachments": {},
   "cell_type": "markdown",
   "metadata": {},
   "source": [
    "## Q. 29\n",
    "    Magic Number (recursive sum is 1)"
   ]
  },
  {
   "cell_type": "code",
   "execution_count": 29,
   "metadata": {},
   "outputs": [
    {
     "name": "stdout",
     "output_type": "stream",
     "text": [
      "True\n",
      "True\n",
      "False\n"
     ]
    }
   ],
   "source": [
    "def is_magic_number(n: int) -> bool:\n",
    "    if n < 10:\n",
    "        return n == 1\n",
    "    else:\n",
    "        return is_magic_number(sum(int(d) for d in str(n)))\n",
    "\n",
    "\n",
    "print(is_magic_number(1))  # True\n",
    "print(is_magic_number(70101982))  # True\n",
    "print(is_magic_number(153))  # False\n"
   ]
  },
  {
   "attachments": {},
   "cell_type": "markdown",
   "metadata": {},
   "source": [
    "## Q. 30\n",
    "    Print multiplication table of a number"
   ]
  },
  {
   "cell_type": "code",
   "execution_count": 30,
   "metadata": {},
   "outputs": [
    {
     "name": "stdout",
     "output_type": "stream",
     "text": [
      "6 * 1 = 6\n",
      "6 * 2 = 12\n",
      "6 * 3 = 18\n",
      "6 * 4 = 24\n",
      "6 * 5 = 30\n",
      "6 * 6 = 36\n",
      "6 * 7 = 42\n",
      "6 * 8 = 48\n",
      "6 * 9 = 54\n",
      "6 * 10 = 60\n"
     ]
    }
   ],
   "source": [
    "def multiplication_table(num: float, terms: int = 10) -> None:\n",
    "    for i in range(1, terms + 1):\n",
    "        print(f\"{num} * {i} = {num*i}\")\n",
    "\n",
    "\n",
    "multiplication_table(6)"
   ]
  }
 ],
 "metadata": {
  "kernelspec": {
   "display_name": "Python 3 (ipykernel)",
   "language": "python",
   "name": "python3"
  },
  "language_info": {
   "codemirror_mode": {
    "name": "ipython",
    "version": 3
   },
   "file_extension": ".py",
   "mimetype": "text/x-python",
   "name": "python",
   "nbconvert_exporter": "python",
   "pygments_lexer": "ipython3",
   "version": "3.11.0 (main, Oct 24 2022, 18:26:48) [MSC v.1933 64 bit (AMD64)]"
  },
  "toc-showmarkdowntxt": false,
  "vscode": {
   "interpreter": {
    "hash": "c261aea317cc0286b3b3261fbba9abdec21eaa57589985bb7a274bf54d6cc0a7"
   }
  }
 },
 "nbformat": 4,
 "nbformat_minor": 4
}
