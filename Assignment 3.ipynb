{
 "cells": [
  {
   "attachments": {},
   "cell_type": "markdown",
   "metadata": {},
   "source": [
    "# Assignment 1\n",
    "# Name: Redacted\n",
    "# Reg no: Redacted"
   ]
  },
  {
   "attachments": {},
   "cell_type": "markdown",
   "metadata": {},
   "source": [
    "## Slot A1"
   ]
  },
  {
   "attachments": {},
   "cell_type": "markdown",
   "metadata": {},
   "source": [
    "### Q1 - digits of num divisible by 3 or 5"
   ]
  },
  {
   "cell_type": "code",
   "execution_count": 2,
   "metadata": {},
   "outputs": [
    {
     "name": "stdout",
     "output_type": "stream",
     "text": [
      "8 9 6 2 "
     ]
    }
   ],
   "source": [
    "num = 265798 # abs(int(input(\"Enter num:  \")))\n",
    "\n",
    "def digits_divisible_5_or_3(num):\n",
    "    while num != 0: \n",
    "        dig = num % 10\n",
    "        if dig % 2 == 0 or dig % 3 == 0:\n",
    "            print(dig, end=\" \")\n",
    "        num //= 10\n",
    "\n",
    "digits_divisible_5_or_3(num)\n"
   ]
  },
  {
   "attachments": {},
   "cell_type": "markdown",
   "metadata": {},
   "source": [
    "### Q2 - Highest and lowest score out of 5 runs"
   ]
  },
  {
   "cell_type": "code",
   "execution_count": 71,
   "metadata": {},
   "outputs": [
    {
     "name": "stdout",
     "output_type": "stream",
     "text": [
      "Max is 80\n",
      "Min is 13\n"
     ]
    }
   ],
   "source": [
    "runs = [28, 80, 29, 25, 13]\n",
    "mx = runs[0]; mn = runs[0]\n",
    "\n",
    "for i in runs[1:]:\n",
    "    if mx < i:\n",
    "        mx = i\n",
    "    if mn > i:\n",
    "        mn = i\n",
    "\n",
    "print(f\"Max is {mx}\\nMin is {mn}\")"
   ]
  },
  {
   "attachments": {},
   "cell_type": "markdown",
   "metadata": {},
   "source": [
    "### Q4 - Cost of data used"
   ]
  },
  {
   "cell_type": "code",
   "execution_count": 72,
   "metadata": {},
   "outputs": [
    {
     "name": "stdout",
     "output_type": "stream",
     "text": [
      "Total bill: 1900\n"
     ]
    }
   ],
   "source": [
    "data_consumed = 25 # int(input(\"Enter data consumed (in GB):  \"))\n",
    "\n",
    "def data_cost(data_consumed: int):\n",
    "    if data_consumed <= 2:\n",
    "        cost = 0\n",
    "    elif data_consumed <= 10:\n",
    "        cost = (data_consumed - 2)*50\n",
    "    else:\n",
    "        cost = 8*50 + (data_consumed - 10)*100\n",
    "\n",
    "    print(f\"Total bill: {cost}\")\n",
    "\n",
    "data_cost(data_consumed)"
   ]
  },
  {
   "attachments": {},
   "cell_type": "markdown",
   "metadata": {},
   "source": [
    "### Q5 - Pattern question"
   ]
  },
  {
   "cell_type": "code",
   "execution_count": 3,
   "metadata": {},
   "outputs": [
    {
     "name": "stdout",
     "output_type": "stream",
     "text": [
      "A \n",
      "B A \n",
      "C B A \n",
      "D C B A \n",
      "E D C B A \n",
      "F E D C B A \n"
     ]
    }
   ],
   "source": [
    "rows = 6 # int(input(\"Enter num of rows:  \"))\n",
    "\n",
    "def pattern1(rows):\n",
    "    for i in range(rows):\n",
    "        for j in range(65+i, 64, -1):\n",
    "            print(chr(j), end=\" \")\n",
    "        print()\n",
    "\n",
    "pattern1(rows)"
   ]
  },
  {
   "attachments": {},
   "cell_type": "markdown",
   "metadata": {},
   "source": [
    "## Slot A2"
   ]
  },
  {
   "attachments": {},
   "cell_type": "markdown",
   "metadata": {},
   "source": [
    "### Q1 - Strong number"
   ]
  },
  {
   "cell_type": "code",
   "execution_count": 5,
   "metadata": {},
   "outputs": [
    {
     "name": "stdout",
     "output_type": "stream",
     "text": [
      "Strong Number\n"
     ]
    }
   ],
   "source": [
    "n = num = 40585 # int(input(\"Enter num:  \"))\n",
    "\n",
    "def strong_number(n):\n",
    "    num = n\n",
    "    sum = 0\n",
    "\n",
    "    while n != 0:\n",
    "        dig = n % 10\n",
    "        fact = 1\n",
    "        while dig != 0:\n",
    "            fact *= dig\n",
    "            dig -= 1\n",
    "        sum += fact\n",
    "        n //= 10\n",
    "    print(\"Strong Number\" if sum == num else \"Not a Strong Number\")\n",
    "\n",
    "strong_number(n)"
   ]
  },
  {
   "attachments": {},
   "cell_type": "markdown",
   "metadata": {},
   "source": [
    "### Q3 - Company insurance"
   ]
  },
  {
   "cell_type": "code",
   "execution_count": 75,
   "metadata": {},
   "outputs": [
    {
     "name": "stdout",
     "output_type": "stream",
     "text": [
      "Insured.\n"
     ]
    }
   ],
   "source": [
    "age = 35 # int(input(\"Enter age:  \"))\n",
    "gender = \"M\" #input(\"Enter gender (M/F):  \")\n",
    "marital_status = 1 # int(input(\"Choose marital status\\n1. Married\\n2. Unmarried\\n(int input):  \"))\n",
    "\n",
    "if marital_status == 1:\n",
    "    print(\"Insured.\")\n",
    "elif marital_status == 2:\n",
    "    if (gender == \"F\" or gender == \"f\") and age > 25:\n",
    "        print(\"Insured.\")\n",
    "    elif (gender == \"M\" or gender == \"m\") and age > 30:\n",
    "        print(\"Insured.\")\n",
    "    else:\n",
    "        print(\"Not insured\")\n",
    "else:\n",
    "    print(\"Invalid marital status input.\")"
   ]
  },
  {
   "attachments": {},
   "cell_type": "markdown",
   "metadata": {},
   "source": [
    "### Q4 - Sum of series 1 - x/1! + 2x/2! - 3x/3! +... n*x/(n!)"
   ]
  },
  {
   "cell_type": "code",
   "execution_count": 76,
   "metadata": {},
   "outputs": [
    {
     "name": "stdout",
     "output_type": "stream",
     "text": [
      "Sum of series is -0.84.\n"
     ]
    }
   ],
   "source": [
    "x = 5 # int(input(\"Enter value of x:  \"))\n",
    "n = 20 # int(input(\"Enter value of n:  \"))\n",
    "\n",
    "a = -1\n",
    "fact = 1\n",
    "sum = 1\n",
    "\n",
    "for i in range(1, n+1):\n",
    "    fact *= i\n",
    "    sum += (a**i)*i*x/fact\n",
    "\n",
    "print(f\"Sum of series is {sum:.2f}.\")"
   ]
  },
  {
   "attachments": {},
   "cell_type": "markdown",
   "metadata": {},
   "source": [
    "### Q5 (a) - 20-10 numbers in reverse order"
   ]
  },
  {
   "cell_type": "code",
   "execution_count": 77,
   "metadata": {},
   "outputs": [
    {
     "name": "stdout",
     "output_type": "stream",
     "text": [
      "20 19 18 17 16 15 14 13 12 11 10 "
     ]
    }
   ],
   "source": [
    "for i in range(20, 9, -1):\n",
    "    print(i, end=\" \")"
   ]
  },
  {
   "attachments": {},
   "cell_type": "markdown",
   "metadata": {},
   "source": [
    "### Q5 (b) - num b/w 1-n which are multiple of 7 or 11"
   ]
  },
  {
   "cell_type": "code",
   "execution_count": 78,
   "metadata": {},
   "outputs": [
    {
     "name": "stdout",
     "output_type": "stream",
     "text": [
      "7 11 14 21 22 28 33 35 42 44 49 55 56 63 66 70 77 84 88 91 98 99 "
     ]
    }
   ],
   "source": [
    "n = 100 # int(input(\"Enter value of n:  \"))\n",
    "\n",
    "for i in range(1, n):\n",
    "        if i % 7 == 0 or i % 11 == 0:\n",
    "            print(i, end=\" \")"
   ]
  },
  {
   "attachments": {},
   "cell_type": "markdown",
   "metadata": {},
   "source": [
    "## Slot A3"
   ]
  },
  {
   "attachments": {},
   "cell_type": "markdown",
   "metadata": {},
   "source": [
    "### Q1 - Strong number (REPEAT OF A2 - Q1)"
   ]
  },
  {
   "attachments": {},
   "cell_type": "markdown",
   "metadata": {},
   "source": [
    "### Q3 - salary"
   ]
  },
  {
   "cell_type": "code",
   "execution_count": 79,
   "metadata": {},
   "outputs": [
    {
     "name": "stdout",
     "output_type": "stream",
     "text": [
      "Salary of employee: Rs13080.00\n"
     ]
    }
   ],
   "source": [
    "gender = \"F\" #input(\"Enter gender (M/F):  \")\n",
    "years_of_service = 20 # int(input(\"Enter Years of Service:  \"))\n",
    "qualifications = 1 # int(input(\"Choose Qualification\\n1. Post-Graduate\\n2. Graduate\\n(int input):  \"))\n",
    "\n",
    "if gender == \"M\" or gender == \"m\":\n",
    "    if years_of_service >= 10:\n",
    "        if qualifications == 1:\n",
    "            salary = 1.1*15000\n",
    "        elif qualifications == 2:\n",
    "            salary = 1.07*10000\n",
    "        else:\n",
    "            print(\"Invalid qualifications selected.\")\n",
    "    elif years_of_service < 10:\n",
    "        if qualifications == 1:\n",
    "            salary = 1.07*10000\n",
    "        elif qualifications == 2:\n",
    "            salary = 1.05*7000\n",
    "        else:\n",
    "            print(\"Invalid qualifications selected.\")        \n",
    "elif gender == \"F\" or gender == \"f\":\n",
    "    if years_of_service >= 10:\n",
    "        if qualifications == 1:\n",
    "            salary = 1.09*12000\n",
    "        elif qualifications == 2:\n",
    "            salary = 1.08*9000\n",
    "        else:\n",
    "            print(\"Invalid qualifications selected.\")\n",
    "    elif years_of_service < 10:\n",
    "        if qualifications == 1:\n",
    "            salary = 1.1*10000\n",
    "        elif qualifications == 2:\n",
    "            salary = 1.05*6000\n",
    "        else:\n",
    "            print(\"Invalid qualifications selected.\")\n",
    "else:\n",
    "    print(\"Invalid gender entered.\")\n",
    "\n",
    "print(f\"Salary of employee: Rs{salary:.2f}\")\n"
   ]
  },
  {
   "attachments": {},
   "cell_type": "markdown",
   "metadata": {},
   "source": [
    "### Q4 - Pattern question"
   ]
  },
  {
   "cell_type": "code",
   "execution_count": 1,
   "metadata": {},
   "outputs": [
    {
     "name": "stdout",
     "output_type": "stream",
     "text": [
      "4\n",
      "   *\n",
      "  * *\n",
      " *   *\n",
      "*     *\n",
      " *   *\n",
      "  * *\n",
      "   *\n"
     ]
    }
   ],
   "source": [
    "n = 7 # int(input(\"no of rows:  \"))\n",
    "n = n//2 if n%2==0 else n//2+1\n",
    "print(n)\n",
    "for i in range(n):\n",
    "    for j in range(n+i):\n",
    "        if (j == n - i - 1) or (j == n + i - 1):\n",
    "            print(\"*\", end=\"\")\n",
    "        else:\n",
    "            print(end=\" \")\n",
    "    print()\n",
    "for i in range(n-2, -1, -1):\n",
    "    for j in range(n+i):\n",
    "        if (j == n - i - 1) or (j == n + i - 1):\n",
    "            print(\"*\", end=\"\")\n",
    "        else:\n",
    "            print(end=\" \")\n",
    "    print()\n"
   ]
  },
  {
   "attachments": {},
   "cell_type": "markdown",
   "metadata": {},
   "source": [
    "### Q5 - difference b/w product of odd and even digits in a number"
   ]
  },
  {
   "cell_type": "code",
   "execution_count": 81,
   "metadata": {},
   "outputs": [
    {
     "name": "stdout",
     "output_type": "stream",
     "text": [
      "Product of even = 12\n",
      "Product of odd = 25\n",
      "Difference = 13\n"
     ]
    }
   ],
   "source": [
    "n = 15256 # int(input(\"Enter num:  \"))\n",
    "\n",
    "prod_e = 1\n",
    "prod_o = 1\n",
    "are_e = False\n",
    "are_o = False\n",
    "\n",
    "while n != 0:\n",
    "    dig = n % 10\n",
    "    if dig % 2 == 0:\n",
    "        prod_e *= dig\n",
    "        if not are_e:\n",
    "            are_e = True\n",
    "    else:\n",
    "        prod_o *= dig\n",
    "        if not are_o:\n",
    "            are_o = True\n",
    "    \n",
    "    n //= 10\n",
    "\n",
    "if not are_e:\n",
    "    prod_e = 0\n",
    "if not are_o:\n",
    "    prod_o = 0\n",
    "\n",
    "if prod_e > prod_o:\n",
    "    diff = prod_e - prod_o\n",
    "else:\n",
    "    diff = prod_o - prod_e\n",
    "\n",
    "print(f\"Product of even = {prod_e}\\nProduct of odd = {prod_o}\\nDifference = {diff}\")"
   ]
  },
  {
   "attachments": {},
   "cell_type": "markdown",
   "metadata": {},
   "source": [
    "## Slot B1"
   ]
  },
  {
   "attachments": {},
   "cell_type": "markdown",
   "metadata": {},
   "source": [
    "### Q1 - print circumference, volm and surface area of sphere"
   ]
  },
  {
   "cell_type": "code",
   "execution_count": 82,
   "metadata": {},
   "outputs": [
    {
     "name": "stdout",
     "output_type": "stream",
     "text": [
      "Volume: 1436.03\n",
      "Circumference: 43.96\n",
      "Surface Area: 615.44\n"
     ]
    }
   ],
   "source": [
    "r = 7 # float(input(\"Enter radius:  \"))\n",
    "pi = 3.14\n",
    "\n",
    "vol = 4/3*pi*r**3\n",
    "circum = 2*pi*r\n",
    "sa = 4*pi*r**2\n",
    "\n",
    "print(f\"Volume: {vol:.2f}\\nCircumference: {circum:.2f}\\nSurface Area: {sa:.2f}\")"
   ]
  },
  {
   "attachments": {},
   "cell_type": "markdown",
   "metadata": {},
   "source": [
    "### Q3 - Library issued book overdue charges"
   ]
  },
  {
   "cell_type": "code",
   "execution_count": 83,
   "metadata": {},
   "outputs": [
    {
     "name": "stdout",
     "output_type": "stream",
     "text": [
      "Fine is Rs 87.5\n"
     ]
    }
   ],
   "source": [
    "days = 26 # int(input(\"Enter days:  \"))\n",
    "\n",
    "if days < 0:\n",
    "    print(\"Days can not be negative.\")\n",
    "elif days <= 5:\n",
    "    fine = days*.5\n",
    "    print(f\"Fine is Rs {fine}\")\n",
    "elif days <= 10:\n",
    "    fine = 5*.5 + (days-5)\n",
    "    print(f\"Fine is Rs {fine}\")\n",
    "elif days <= 30:\n",
    "    fine = 5*.5 + 5 + (days - 10)*5\n",
    "    print(f\"Fine is Rs {fine}\")\n",
    "else:\n",
    "    print(\"Membership cancelled.\")"
   ]
  },
  {
   "attachments": {},
   "cell_type": "markdown",
   "metadata": {},
   "source": [
    "### Q4 - Pattern question"
   ]
  },
  {
   "cell_type": "code",
   "execution_count": 84,
   "metadata": {},
   "outputs": [
    {
     "name": "stdout",
     "output_type": "stream",
     "text": [
      "A \n",
      "A B \n",
      "A B C \n",
      "A B C D \n",
      "A B C \n",
      "A B \n",
      "A \n"
     ]
    }
   ],
   "source": [
    "n = 7 # int(input(\"no of rows:  \"))\n",
    "n = n//2 if n%2==0 else n//2+1\n",
    "\n",
    "for i in range(n):\n",
    "    for j in range(65, 65+i+1):\n",
    "        print(chr(j), end=\" \")\n",
    "    print()\n",
    "for i in range(n-2, -1, -1):\n",
    "    for j in range(65, 65+i+1):\n",
    "        print(chr(j), end=\" \")\n",
    "    print()"
   ]
  },
  {
   "attachments": {},
   "cell_type": "markdown",
   "metadata": {},
   "source": [
    "### Q5 - difference b/w product of odd and even digits in a number (REPEAT OF A3 - Q5)"
   ]
  },
  {
   "attachments": {},
   "cell_type": "markdown",
   "metadata": {},
   "source": [
    "## Slot B2"
   ]
  },
  {
   "attachments": {},
   "cell_type": "markdown",
   "metadata": {},
   "source": [
    "### Q1 - Armstrong number"
   ]
  },
  {
   "cell_type": "code",
   "execution_count": 85,
   "metadata": {},
   "outputs": [
    {
     "name": "stdout",
     "output_type": "stream",
     "text": [
      "Armstrong number.\n"
     ]
    }
   ],
   "source": [
    "n = m = num = 1634 # int(input(\"Enter num:  \"))\n",
    "\n",
    "num_digs = 0\n",
    "while m != 0:\n",
    "    num_digs += 1\n",
    "    m //= 10\n",
    "\n",
    "sum = 0\n",
    "while n != 0:\n",
    "    sum += (n%10)**num_digs\n",
    "    n //= 10\n",
    "\n",
    "if sum == num:\n",
    "    print(\"Armstrong number.\")\n",
    "else:\n",
    "    print(\"Not an Armstrong number.\")\n"
   ]
  },
  {
   "attachments": {},
   "cell_type": "markdown",
   "metadata": {},
   "source": [
    "### Q2 (a) - calculate amount to be paid by customer"
   ]
  },
  {
   "cell_type": "code",
   "execution_count": 86,
   "metadata": {},
   "outputs": [
    {
     "name": "stdout",
     "output_type": "stream",
     "text": [
      "Money to be paid Rs 518.95\n"
     ]
    }
   ],
   "source": [
    "marked_price = 529 # float(input(\"Enter marked price:  \"))\n",
    "discounted_price = 0.9 * marked_price\n",
    "final_price = 1.09 * discounted_price\n",
    "\n",
    "print(f\"Money to be paid Rs {final_price:.2f}\")"
   ]
  },
  {
   "attachments": {},
   "cell_type": "markdown",
   "metadata": {},
   "source": [
    "### Q2 (b) - Find term and recurring deposit"
   ]
  },
  {
   "cell_type": "code",
   "execution_count": 87,
   "metadata": {},
   "outputs": [
    {
     "name": "stdout",
     "output_type": "stream",
     "text": [
      "Term deposit: Rs 24157.65\n",
      "Recurring deposit: Rs 76312.50\n"
     ]
    }
   ],
   "source": [
    "principal = 15000#  float(input(\"Enter principal amount:  \"))\n",
    "roi = 10 # int(input(\"Enter rate of interest:  \"))\n",
    "n = 5 # float(input(\"Enter time period:  \"))\n",
    "\n",
    "term_deposit = principal*(1+roi/100)**n\n",
    "recurring_deposit = principal*n + principal*(n*(n+1)/2)*r/100*1/12\n",
    "\n",
    "print(f\"Term deposit: Rs {term_deposit:.2f}\\nRecurring deposit: Rs {recurring_deposit:.2f}\")"
   ]
  },
  {
   "attachments": {},
   "cell_type": "markdown",
   "metadata": {},
   "source": [
    "### Q3 - Find grade of student"
   ]
  },
  {
   "cell_type": "code",
   "execution_count": 88,
   "metadata": {},
   "outputs": [
    {
     "name": "stdout",
     "output_type": "stream",
     "text": [
      "Grade: C\n"
     ]
    }
   ],
   "source": [
    "marks = 79 # float(input(\"Enter marks:  \"))\n",
    "\n",
    "if marks >= 90 and marks <= 100:\n",
    "    grade = \"A\"\n",
    "    print(f\"Grade: {grade}\")\n",
    "elif marks >= 80:\n",
    "    grade = \"B\"\n",
    "    print(f\"Grade: {grade}\")\n",
    "elif marks >= 70:\n",
    "    grade = \"C\"\n",
    "    print(f\"Grade: {grade}\")\n",
    "elif marks >= 60:\n",
    "    grade = \"D\"\n",
    "    print(f\"Grade: {grade}\")\n",
    "elif marks < 50 and marks >= 0:\n",
    "    grade = \"F\"\n",
    "    print(f\"Grade: {grade}\")\n",
    "else:\n",
    "    print(\"Out of range.\")\n"
   ]
  },
  {
   "attachments": {},
   "cell_type": "markdown",
   "metadata": {},
   "source": [
    "### Q4 (a) - cos(x) computation"
   ]
  },
  {
   "cell_type": "code",
   "execution_count": 89,
   "metadata": {},
   "outputs": [
    {
     "name": "stdout",
     "output_type": "stream",
     "text": [
      "0.7071067811865475\n"
     ]
    }
   ],
   "source": [
    "import math\n",
    "n = 25\n",
    "x = math.pi/4 # math.radians(float(input(\"Enter value of x (angle):  \")))\n",
    "sum = 1\n",
    "fact = 1\n",
    "sign = -1\n",
    "\n",
    "for i in range(2, n*2 + 1, 2):\n",
    "    fact = fact*i*(i-1)\n",
    "    sum += sign*x**i/fact\n",
    "    sign = -sign\n",
    "\n",
    "print(sum)"
   ]
  },
  {
   "attachments": {},
   "cell_type": "markdown",
   "metadata": {},
   "source": [
    "### Q4 (b) - sum of odd and even digits of a number"
   ]
  },
  {
   "cell_type": "code",
   "execution_count": 90,
   "metadata": {},
   "outputs": [
    {
     "name": "stdout",
     "output_type": "stream",
     "text": [
      "Sum of even digits: 8\n",
      "Sum of odd digits: 12\n"
     ]
    }
   ],
   "source": [
    "num = 24563 # int(input(\"Enter number:  \"))\n",
    "sum_o = 0\n",
    "sum_e = 0\n",
    "\n",
    "while num != 0:\n",
    "    dig = num % 10\n",
    "    if dig % 2:\n",
    "        sum_e += dig\n",
    "    else:\n",
    "        sum_o += dig\n",
    "\n",
    "    num //= 10\n",
    "\n",
    "print(f\"Sum of even digits: {sum_e}\\nSum of odd digits: {sum_o}\")"
   ]
  },
  {
   "attachments": {},
   "cell_type": "markdown",
   "metadata": {},
   "source": [
    "### Q5 - pattern question"
   ]
  },
  {
   "cell_type": "code",
   "execution_count": 91,
   "metadata": {},
   "outputs": [
    {
     "name": "stdout",
     "output_type": "stream",
     "text": [
      "1 2 3 4 5 6 \n",
      "2 3 4 5 6 \n",
      "3 4 5 6 \n",
      "4 5 6 \n",
      "5 6 \n",
      "6 \n"
     ]
    }
   ],
   "source": [
    "row = 6 # int(input(\"Enter rows:  \"))\n",
    "\n",
    "for i in range(1, row+1):\n",
    "    for j in range(i, row+1):\n",
    "        print(j, end=\" \")\n",
    "    print()"
   ]
  },
  {
   "attachments": {},
   "cell_type": "markdown",
   "metadata": {},
   "source": [
    "## Slot C1"
   ]
  },
  {
   "attachments": {},
   "cell_type": "markdown",
   "metadata": {},
   "source": [
    "### Q1 - Armstrong number (REPEAT OF B2 - Q1)"
   ]
  },
  {
   "attachments": {},
   "cell_type": "markdown",
   "metadata": {},
   "source": [
    "### Q2 - Average of runs greater than 30 out of 10 inning runs"
   ]
  },
  {
   "cell_type": "code",
   "execution_count": 92,
   "metadata": {},
   "outputs": [
    {
     "name": "stdout",
     "output_type": "stream",
     "text": [
      "Average of scores greater than 30 = 54.17\n"
     ]
    }
   ],
   "source": [
    "runs = [78, 18, 6, 38, 56, 26, 83, 21, 38, 32] # [int(input(\"Enter runs\")) for i in range(10)]\n",
    "count = 0\n",
    "sum = 0\n",
    "for run in runs:\n",
    "    if run > 30:\n",
    "        sum += run\n",
    "        count += 1\n",
    "\n",
    "avg = sum/count if sum != 0 else 0\n",
    "print(f\"Average of scores greater than 30 = {avg:.2f}\")"
   ]
  },
  {
   "attachments": {},
   "cell_type": "markdown",
   "metadata": {},
   "source": [
    "### Q3 - Find grade of student (REPEAT OF B2 - Q3)"
   ]
  },
  {
   "attachments": {},
   "cell_type": "markdown",
   "metadata": {},
   "source": [
    "### Q4 - print prime numbers from 1-n"
   ]
  },
  {
   "cell_type": "code",
   "execution_count": 2,
   "metadata": {},
   "outputs": [
    {
     "name": "stdout",
     "output_type": "stream",
     "text": [
      "2 3 5 7 11 13 17 19 23 29 31 37 41 43 47 53 59 61 67 71 73 79 83 89 97 "
     ]
    }
   ],
   "source": [
    "n = 100 # int(input(\"Enter range upper bound (not included):  \"))\n",
    "\n",
    "for i in range(2, n):\n",
    "    check = False\n",
    "    for j in range(2, i):\n",
    "        if i % j == 0:\n",
    "            check = True\n",
    "            break\n",
    "    if not check:\n",
    "        print(i, end=\" \")"
   ]
  },
  {
   "attachments": {},
   "cell_type": "markdown",
   "metadata": {},
   "source": [
    "### Q5 - Pattern Question (REPEAT OF B2 - Q5)"
   ]
  },
  {
   "attachments": {},
   "cell_type": "markdown",
   "metadata": {},
   "source": [
    "## Slot C2"
   ]
  },
  {
   "attachments": {},
   "cell_type": "markdown",
   "metadata": {},
   "source": [
    "### Q1 - Decimal to octal"
   ]
  },
  {
   "cell_type": "code",
   "execution_count": 94,
   "metadata": {},
   "outputs": [
    {
     "name": "stdout",
     "output_type": "stream",
     "text": [
      "10\n"
     ]
    }
   ],
   "source": [
    "n = 8 # int(input(\"Enter number:  \"))\n",
    "\n",
    "pos = n >= 0\n",
    "n = m = abs(n)\n",
    "\n",
    "numdig = 0\n",
    "while n != 0:\n",
    "    n //= 8\n",
    "    numdig+=1\n",
    "\n",
    "octal = 0\n",
    "for i in range(numdig, 0, -1):\n",
    "    octal = octal + (m%8)*(10**(numdig-i))\n",
    "    m //= 8\n",
    "\n",
    "print(octal if pos else -octal)\n"
   ]
  },
  {
   "attachments": {},
   "cell_type": "markdown",
   "metadata": {},
   "source": [
    "### Q3 - Find grade of student"
   ]
  },
  {
   "cell_type": "code",
   "execution_count": 95,
   "metadata": {},
   "outputs": [
    {
     "name": "stdout",
     "output_type": "stream",
     "text": [
      "Grade: A\n"
     ]
    }
   ],
   "source": [
    "marks = 87 # float(input(\"Enter marks:  \"))\n",
    "\n",
    "if marks >= 90 and marks <= 100:\n",
    "    grade = \"S\"\n",
    "    print(f\"Grade: {grade}\")\n",
    "elif marks >= 80:\n",
    "    grade = \"A\"\n",
    "    print(f\"Grade: {grade}\")\n",
    "elif marks >= 70:\n",
    "    grade = \"B\"\n",
    "    print(f\"Grade: {grade}\")\n",
    "elif marks >= 60:\n",
    "    grade = \"C\"\n",
    "    print(f\"Grade: {grade}\")\n",
    "elif marks >= 50:\n",
    "    grade = \"D\"\n",
    "    print(f\"Grade: {grade}\")\n",
    "elif marks >= 40:\n",
    "    grade = \"E\"\n",
    "    print(f\"Grade: {grade}\")\n",
    "elif marks < 40 and marks >= 0:\n",
    "    grade = \"F\"\n",
    "    print(f\"Grade: {grade}\") \n",
    "else:\n",
    "    print(\"Out of range.\")"
   ]
  },
  {
   "attachments": {},
   "cell_type": "markdown",
   "metadata": {},
   "source": [
    "### Q4 (a) - program to print number of positive, negative and zero number entered by user"
   ]
  },
  {
   "cell_type": "code",
   "execution_count": 96,
   "metadata": {},
   "outputs": [
    {
     "name": "stdout",
     "output_type": "stream",
     "text": [
      "User entered\n",
      "Positive numbers: 8\n",
      "Negative numbers: 6\n",
      "Zeroes: 8\n"
     ]
    }
   ],
   "source": [
    "neg = 0; pos = 0; zer = 0\n",
    "\n",
    "while True:\n",
    "    num = int(input(\"Enter number:  \"))\n",
    "    if num == -1:\n",
    "        break\n",
    "    elif num > 0:\n",
    "        pos += 1\n",
    "    elif num <0:\n",
    "        neg += 1\n",
    "    elif num == 0:\n",
    "        zer += 1\n",
    "\n",
    "print(f\"User entered\\nPositive numbers: {pos}\\nNegative numbers: {neg}\\nZeroes: {zer}\")"
   ]
  },
  {
   "attachments": {},
   "cell_type": "markdown",
   "metadata": {},
   "source": [
    "### Q5 - Pattern Question"
   ]
  },
  {
   "cell_type": "code",
   "execution_count": 97,
   "metadata": {},
   "outputs": [
    {
     "name": "stdout",
     "output_type": "stream",
     "text": [
      "2 \n",
      "2 3 \n",
      "2 3 5 \n",
      "2 3 5 7 \n",
      "2 3 5 7 11 \n",
      "2 3 5 7 11 13 \n"
     ]
    }
   ],
   "source": [
    "n = 6 # int(input(\"no of rows:  \"))\n",
    "\n",
    "for i in range(n):\n",
    "    m = 2\n",
    "    for j in range(i+1):\n",
    "        count = 0\n",
    "        while not count:\n",
    "            check = False\n",
    "            for i in range(2, m//2+1):\n",
    "                if m % i == 0:\n",
    "                    check = True\n",
    "            if not check:\n",
    "                print(m, end=\" \")\n",
    "                count += 1\n",
    "            m += 1\n",
    "    print()\n"
   ]
  },
  {
   "attachments": {},
   "cell_type": "markdown",
   "metadata": {},
   "source": [
    "## Slot C3"
   ]
  },
  {
   "attachments": {},
   "cell_type": "markdown",
   "metadata": {},
   "source": [
    "### Q1 - hexadecimal to decimal"
   ]
  },
  {
   "cell_type": "code",
   "execution_count": 6,
   "metadata": {},
   "outputs": [
    {
     "name": "stdout",
     "output_type": "stream",
     "text": [
      "8CF in base 16 = 2255 in base 10.\n"
     ]
    }
   ],
   "source": [
    "values = {\n",
    "    'A': 10,\n",
    "    'B': 11,\n",
    "    'C': 12,\n",
    "    'D': 13,\n",
    "    'E': 14,\n",
    "    'F': 15\n",
    "}\n",
    "\n",
    "hexa = \"8CF\"\n",
    "power = len(hexa) - 1\n",
    "\n",
    "sol = 0\n",
    "for i in hexa:\n",
    "    sol += int(values.get(i, i))*16**power\n",
    "    power -= 1\n",
    "\n",
    "print(f\"{hexa} in base 16 = {sol} in base 10.\")"
   ]
  },
  {
   "attachments": {},
   "cell_type": "markdown",
   "metadata": {},
   "source": [
    "### Q2 - Hostel library bill"
   ]
  },
  {
   "cell_type": "code",
   "execution_count": 99,
   "metadata": {},
   "outputs": [
    {
     "name": "stdout",
     "output_type": "stream",
     "text": [
      "Fine is Rs 208\n"
     ]
    }
   ],
   "source": [
    "days = 24 # int(input(\"Enter number of late days:  \"))\n",
    "\n",
    "if days > 0 and days <= 5:\n",
    "    fine = 5*days\n",
    "elif days <= 10:\n",
    "    fine = 5*5 + (days - 5)*7\n",
    "elif days <= 20:\n",
    "    fine = 5*5 + 5*7 + (days - 10)*10\n",
    "elif days > 20:\n",
    "    fine = 5*5 + 5*7 + 10*10 + (days - 20)*12\n",
    "\n",
    "print(f\"Fine is Rs {fine}\")"
   ]
  },
  {
   "attachments": {},
   "cell_type": "markdown",
   "metadata": {},
   "source": [
    "### Q3 - Checking if a student has sufficient attendance"
   ]
  },
  {
   "cell_type": "code",
   "execution_count": 100,
   "metadata": {},
   "outputs": [
    {
     "name": "stdout",
     "output_type": "stream",
     "text": [
      "Enough attendance.\n"
     ]
    }
   ],
   "source": [
    "total_classes = 30 # int(input(\"Enter number of classes held:  \"))\n",
    "attended_classes = 23 # int(input(\"Enter number of classes attended:  \"))\n",
    "\n",
    "if attended_classes/total_classes >= 0.8:\n",
    "    print(\"Enough attendance.\")\n",
    "elif attended_classes/total_classes >= 0.75:\n",
    "    medical_leave = 1 # int(input(\"Less than 80% attendance\\nEnter num of medical leaves:  \"))\n",
    "    if (attended_classes+medical_leave)/total_classes >= 0.8:\n",
    "        print(\"Enough attendance.\")\n",
    "    else:\n",
    "        print(\"Debarred.\")    \n",
    "else:\n",
    "    print(\"Debarred.\")\n"
   ]
  },
  {
   "attachments": {},
   "cell_type": "markdown",
   "metadata": {},
   "source": [
    "### Q4 - Sum of factorials"
   ]
  },
  {
   "cell_type": "code",
   "execution_count": 101,
   "metadata": {},
   "outputs": [
    {
     "name": "stdout",
     "output_type": "stream",
     "text": [
      "1 + 2 + 6 + 24 + 120 + 720 = 873\n"
     ]
    }
   ],
   "source": [
    "n = 6 # int(input(\"Enter n:  \"))\n",
    "\n",
    "fact = 1\n",
    "sum = 0\n",
    "\n",
    "for i in range(1, n):\n",
    "    fact *= i\n",
    "    print(f\"{fact} + \", end=\"\")\n",
    "    sum += fact\n",
    "else:\n",
    "    fact *= n\n",
    "    print(f\"{fact} = \", end=\"\")\n",
    "    sum += fact\n",
    "\n",
    "print(sum)"
   ]
  },
  {
   "attachments": {},
   "cell_type": "markdown",
   "metadata": {},
   "source": [
    "### Q5 - Pattern Question"
   ]
  },
  {
   "cell_type": "code",
   "execution_count": 102,
   "metadata": {},
   "outputs": [
    {
     "name": "stdout",
     "output_type": "stream",
     "text": [
      "        * \n",
      "      * * \n",
      "    * * * \n",
      "  * * * * \n",
      "* * * * * \n",
      "  * * * * \n",
      "    * * * \n",
      "      * * \n",
      "        * \n"
     ]
    }
   ],
   "source": [
    "row = 5 # int(input(\"Enter num of rows:  \"))\n",
    "\n",
    "for i in range(row):\n",
    "    for j in range(row - i -1):\n",
    "        print(end=\"  \")\n",
    "    for j in range(i+1):\n",
    "        print(end=\"* \")\n",
    "    print()\n",
    "for i in range(row - 2, -1, -1):\n",
    "    for j in range(row - i -1):\n",
    "        print(end=\"  \")\n",
    "    for j in range(i+1):\n",
    "        print(end=\"* \")\n",
    "    print()\n"
   ]
  },
  {
   "attachments": {},
   "cell_type": "markdown",
   "metadata": {},
   "source": [
    "## Slot D1"
   ]
  },
  {
   "attachments": {},
   "cell_type": "markdown",
   "metadata": {},
   "source": [
    "### Q1 - Lucky number (sum of digits of birthday)"
   ]
  },
  {
   "cell_type": "code",
   "execution_count": 103,
   "metadata": {},
   "outputs": [
    {
     "name": "stdout",
     "output_type": "stream",
     "text": [
      "Magic number: 1\n"
     ]
    }
   ],
   "source": [
    "dob = 70101982 # int(input(\"Enter date of birth (ddmmyyyy):  \"))\n",
    "\n",
    "sum = 0\n",
    "while dob > 0 or sum > 9:\n",
    "    if dob == 0:\n",
    "        dob = sum\n",
    "        sum = 0\n",
    "    sum += dob % 10\n",
    "    dob //= 10\n",
    "\n",
    "print(\"Magic number:\", sum)"
   ]
  },
  {
   "attachments": {},
   "cell_type": "markdown",
   "metadata": {},
   "source": [
    "### Q3 - Electricity bill"
   ]
  },
  {
   "cell_type": "code",
   "execution_count": 104,
   "metadata": {},
   "outputs": [
    {
     "name": "stdout",
     "output_type": "stream",
     "text": [
      "Electricity bill: 4904.5\n"
     ]
    }
   ],
   "source": [
    "units = 1245 # int(input(\"Enter consumed units:  \"))\n",
    "\n",
    "if units < 200:\n",
    "    bill = units*2.5\n",
    "elif units < 500:\n",
    "    bill = 199*2.5 + (units - 199)*3.5\n",
    "elif units >= 500:\n",
    "    bill = 199*2.5 + 300*3.5 + (units - 499)*4.5\n",
    "\n",
    "print(\"Electricity bill:\", bill)"
   ]
  },
  {
   "attachments": {},
   "cell_type": "markdown",
   "metadata": {},
   "source": [
    "### Q4 - series where next term is multiplication of the two previous terms"
   ]
  },
  {
   "cell_type": "code",
   "execution_count": 4,
   "metadata": {},
   "outputs": [
    {
     "name": "stdout",
     "output_type": "stream",
     "text": [
      "1 2 2 4 "
     ]
    }
   ],
   "source": [
    "n = 4 # int(input(\"Number of terms:  \"))\n",
    "a = 1; b = 2\n",
    "\n",
    "if n <= 0:\n",
    "    print(\"Invalid.\")\n",
    "else:\n",
    "    while n:\n",
    "        print(a, end=\" \")\n",
    "        c = a * b\n",
    "        a = b\n",
    "        b = c\n",
    "        n -= 1"
   ]
  },
  {
   "attachments": {},
   "cell_type": "markdown",
   "metadata": {},
   "source": [
    "### Q5 - Pattern Question"
   ]
  },
  {
   "cell_type": "code",
   "execution_count": 106,
   "metadata": {},
   "outputs": [
    {
     "name": "stdout",
     "output_type": "stream",
     "text": [
      "1 \n",
      "2 8 \n",
      "3 9 15 \n",
      "4 10 16 22 \n",
      "5 11 17 23 29 \n",
      "6 12 18 24 30 36 \n"
     ]
    }
   ],
   "source": [
    "row = 6 # int(input(\"Enter num of rows:  \"))\n",
    "\n",
    "for i in range(1, row+1):\n",
    "    for j in range(i):\n",
    "        print(i+row*j, end=\" \")\n",
    "    print()"
   ]
  },
  {
   "attachments": {},
   "cell_type": "markdown",
   "metadata": {},
   "source": [
    "## Slot D2"
   ]
  },
  {
   "attachments": {},
   "cell_type": "markdown",
   "metadata": {},
   "source": [
    "### Q1 - Fibonacci Series"
   ]
  },
  {
   "cell_type": "code",
   "execution_count": 107,
   "metadata": {},
   "outputs": [
    {
     "name": "stdout",
     "output_type": "stream",
     "text": [
      "0 1 1 2 3 5 8 13 21 34 "
     ]
    }
   ],
   "source": [
    "n = 10 # int(input(\"Enter num of terms to print:  \"))\n",
    "a = 0\n",
    "b = 1\n",
    "sum = 0\n",
    "\n",
    "while n:\n",
    "    print(a, end=\" \")\n",
    "    sum = a + b\n",
    "    a = b\n",
    "    b = sum\n",
    "    n -= 1\n"
   ]
  },
  {
   "attachments": {},
   "cell_type": "markdown",
   "metadata": {},
   "source": [
    "### Q2 (b) - Prime number"
   ]
  },
  {
   "cell_type": "code",
   "execution_count": 108,
   "metadata": {},
   "outputs": [
    {
     "name": "stdout",
     "output_type": "stream",
     "text": [
      "Prime\n"
     ]
    }
   ],
   "source": [
    "i = 47 # int(input(\"Enter num to test:  \"))\n",
    "\n",
    "check = False\n",
    "for j in range(2, i):\n",
    "    if i % j == 0:\n",
    "        check = True\n",
    "        break\n",
    "\n",
    "print(\"Prime\" if not check else \"Not Prime\")"
   ]
  },
  {
   "attachments": {},
   "cell_type": "markdown",
   "metadata": {},
   "source": [
    "### Q3 (b) - Print 1-10, continue if 7"
   ]
  },
  {
   "cell_type": "code",
   "execution_count": 109,
   "metadata": {},
   "outputs": [
    {
     "name": "stdout",
     "output_type": "stream",
     "text": [
      "1 2 3 4 5 6 8 9 10 "
     ]
    }
   ],
   "source": [
    "n = 0\n",
    "while n <= 9:\n",
    "    n += 1\n",
    "    if n == 7:\n",
    "        continue\n",
    "    print(n, end=\" \")"
   ]
  },
  {
   "attachments": {},
   "cell_type": "markdown",
   "metadata": {},
   "source": [
    "### Q4 + Q5 (a) - Electricity bill"
   ]
  },
  {
   "cell_type": "code",
   "execution_count": 110,
   "metadata": {},
   "outputs": [
    {
     "name": "stdout",
     "output_type": "stream",
     "text": [
      "Bill: Rs 24600\n"
     ]
    }
   ],
   "source": [
    "units = 1230 # int(input(\"Enter consumed units:  \"))\n",
    "type_of_user = 2 # int(input(\"Select type of user\\n1. Domestic\\n2. Commercial\\n(integer input):  \"))\n",
    "\n",
    "if type_of_user == 1:\n",
    "    if units <= 100:\n",
    "        bill = units*6\n",
    "    elif units <= 200:\n",
    "        bill = units*8\n",
    "    elif units <= 300:\n",
    "        bill = units*10\n",
    "    elif units <= 400:\n",
    "        bill = units*12\n",
    "    else:\n",
    "        bill = units*15\n",
    "elif type_of_user == 2:\n",
    "    if units <= 100:\n",
    "        bill = units*8\n",
    "    elif units <= 200:\n",
    "        bill = units*10\n",
    "    elif units <= 300:\n",
    "        bill = units*12\n",
    "    elif units <= 400:\n",
    "        bill = units*15\n",
    "    else:\n",
    "        bill = units*20\n",
    "else:\n",
    "    print(\"Invalid User\")\n",
    "    bill = 0\n",
    "\n",
    "if bill:\n",
    "    print(f\"Bill: Rs {bill}\")\n"
   ]
  },
  {
   "attachments": {},
   "cell_type": "markdown",
   "metadata": {},
   "source": [
    "### Q5 (b) - Pattern Question"
   ]
  },
  {
   "cell_type": "code",
   "execution_count": 111,
   "metadata": {},
   "outputs": [
    {
     "name": "stdout",
     "output_type": "stream",
     "text": [
      "* \n",
      "* * \n",
      "* * * \n",
      "* * * * \n",
      "* * * \n",
      "* * \n",
      "* \n"
     ]
    }
   ],
   "source": [
    "n = 7 # int(input(\"no of rows:  \"))\n",
    "n = n//2 if n%2==0 else n//2+1\n",
    "\n",
    "for i in range(n):\n",
    "    for j in range(i+1):\n",
    "        print(end=\"* \")\n",
    "    print()\n",
    "for i in range(n-2, -1, -1):\n",
    "    for j in range(i+1):\n",
    "        print(end=\"* \")\n",
    "    print()    \n"
   ]
  },
  {
   "attachments": {},
   "cell_type": "markdown",
   "metadata": {},
   "source": [
    "## Slot E1"
   ]
  },
  {
   "attachments": {},
   "cell_type": "markdown",
   "metadata": {},
   "source": [
    "### Q1 (a) - Armstrong Number (REPEAT B2 - Q1)"
   ]
  },
  {
   "attachments": {},
   "cell_type": "markdown",
   "metadata": {},
   "source": [
    "### Q2 (b) - Check if char is vowel or not"
   ]
  },
  {
   "cell_type": "code",
   "execution_count": 112,
   "metadata": {},
   "outputs": [
    {
     "name": "stdout",
     "output_type": "stream",
     "text": [
      "Consonant\n"
     ]
    }
   ],
   "source": [
    "vowel = [\"A\", \"E\", \"I\", \"O\", \"U\", 'a', 'e', 'i', 'o', 'u']\n",
    "\n",
    "char = \"p\" # input(\"Enter char:  \")\n",
    "\n",
    "print(\"Vowel\" if char in vowel else \"Consonant\")"
   ]
  },
  {
   "attachments": {},
   "cell_type": "markdown",
   "metadata": {},
   "source": [
    "### Q3 - final price calc"
   ]
  },
  {
   "cell_type": "code",
   "execution_count": 113,
   "metadata": {},
   "outputs": [
    {
     "name": "stdout",
     "output_type": "stream",
     "text": [
      "Money to be paid Rs 10840.70\n"
     ]
    }
   ],
   "source": [
    "marked_price = 12432 # float(input(\"Enter marked price:  \"))\n",
    "if marked_price < 2000:\n",
    "    discounted_price = 0.95 * marked_price\n",
    "elif marked_price < 5000:\n",
    "    discounted_price = 0.9 * marked_price\n",
    "elif marked_price < 10000:\n",
    "    discounted_price = 0.85 * marked_price\n",
    "elif marked_price > 10000:\n",
    "    discounted_price = 0.8 * marked_price\n",
    "final_price = 1.09 * discounted_price\n",
    "\n",
    "print(f\"Money to be paid Rs {final_price:.2f}\")"
   ]
  },
  {
   "attachments": {},
   "cell_type": "markdown",
   "metadata": {},
   "source": [
    "### Q4 (b) - Sum of multiples of 3 or 5 below 500"
   ]
  },
  {
   "cell_type": "code",
   "execution_count": 114,
   "metadata": {},
   "outputs": [
    {
     "name": "stdout",
     "output_type": "stream",
     "text": [
      "57918\n"
     ]
    }
   ],
   "source": [
    "sum = 0\n",
    "for i in range(500):\n",
    "    if i % 5 == 0 or i % 3 == 0:\n",
    "        sum += i\n",
    "print(sum)"
   ]
  },
  {
   "attachments": {},
   "cell_type": "markdown",
   "metadata": {},
   "source": [
    "### Q5 (a) - Pattern Question"
   ]
  },
  {
   "cell_type": "code",
   "execution_count": 2,
   "metadata": {},
   "outputs": [
    {
     "name": "stdout",
     "output_type": "stream",
     "text": [
      "                       1\n",
      "                    2  3\n",
      "                 4  5  6\n",
      "              7  8  9 10\n",
      "          11 12 13 14 15\n",
      "       16 17 18 19 20 21\n",
      "    22 23 24 25 26 27 28\n"
     ]
    }
   ],
   "source": [
    "def get_final(num):\n",
    "    return num*(num+1)//2\n",
    "\n",
    "\n",
    "def get_length(num):\n",
    "    leng = 0\n",
    "    while num != 0:\n",
    "        leng += 1\n",
    "        num //= 10\n",
    "    return leng\n",
    "\n",
    "\n",
    "num = 7 # int(input(\"Enter num of rows:  \"))\n",
    "final_num = get_final(num)\n",
    "total_spaces = get_length(final_num) + 1\n",
    "\n",
    "num_to_print = 1\n",
    "for i in range(num):\n",
    "    for j in range(num + 1):\n",
    "        if j >= (num-i):\n",
    "            print(f\"{(total_spaces - get_length(num_to_print))*' '}{num_to_print}\", end=\"\")\n",
    "            num_to_print += 1\n",
    "        else:\n",
    "            print(end=(total_spaces)*\" \")\n",
    "    print()"
   ]
  },
  {
   "attachments": {},
   "cell_type": "markdown",
   "metadata": {},
   "source": [
    "### Q5 (b) - Pattern Question"
   ]
  },
  {
   "cell_type": "code",
   "execution_count": 1,
   "metadata": {},
   "outputs": [
    {
     "name": "stdout",
     "output_type": "stream",
     "text": [
      "* * * * * * \n",
      " * * * * * \n",
      "  * * * * \n",
      "   * * * \n",
      "    * * \n",
      "     * \n"
     ]
    }
   ],
   "source": [
    "n = 6 # int(input(\"no of rows:  \"))\n",
    "\n",
    "for i in range(n, 0, -1):\n",
    "    for j in range(n-i):\n",
    "        print(end=\" \")\n",
    "    for j in range(i):\n",
    "        print(end=\"* \")\n",
    "    print()\n"
   ]
  },
  {
   "attachments": {},
   "cell_type": "markdown",
   "metadata": {},
   "source": [
    "## Slot E2"
   ]
  },
  {
   "attachments": {},
   "cell_type": "markdown",
   "metadata": {},
   "source": [
    "### Q1 (b) - Armstrong Number (REPEAT B2 - Q1)"
   ]
  },
  {
   "attachments": {},
   "cell_type": "markdown",
   "metadata": {},
   "source": [
    "### Q2 (a) - Sum of multiples of 3 or 5 below 500 (REPEAT E1 - Q4 (b))"
   ]
  },
  {
   "attachments": {},
   "cell_type": "markdown",
   "metadata": {},
   "source": [
    "### Q3 (a) - Sum of number b/w lower and upper bound (included)"
   ]
  },
  {
   "cell_type": "code",
   "execution_count": 117,
   "metadata": {},
   "outputs": [
    {
     "name": "stdout",
     "output_type": "stream",
     "text": [
      "420\n"
     ]
    }
   ],
   "source": [
    "l = 10 # int(input(\"Enter lower bound:  \"))\n",
    "u = 30 # int(input(\"Enter upper bound:  \"))\n",
    "sum = 0\n",
    "\n",
    "for i in range(l, u+1):\n",
    "    sum += i\n",
    "\n",
    "print(sum)"
   ]
  },
  {
   "attachments": {},
   "cell_type": "markdown",
   "metadata": {},
   "source": [
    "### Q5 (a) - Pattern Question"
   ]
  },
  {
   "cell_type": "code",
   "execution_count": 118,
   "metadata": {},
   "outputs": [
    {
     "name": "stdout",
     "output_type": "stream",
     "text": [
      "          1 \n",
      "        1 2 \n",
      "      1 2 3 \n",
      "    1 2 3 4 \n",
      "  1 2 3 4 5 \n",
      "1 2 3 4 5 6 \n"
     ]
    }
   ],
   "source": [
    "row = 6 # int(input(\"Enter num of rows:  \"))\n",
    "\n",
    "for i in range(row):\n",
    "    for j in range(row - i - 1):\n",
    "        print(end=\"  \")\n",
    "    for j in range(1, i+2):\n",
    "        print(j, end=\" \")\n",
    "    print()"
   ]
  },
  {
   "attachments": {},
   "cell_type": "markdown",
   "metadata": {},
   "source": [
    "### Q5 (b) - Pattern Question"
   ]
  },
  {
   "cell_type": "code",
   "execution_count": 119,
   "metadata": {},
   "outputs": [
    {
     "name": "stdout",
     "output_type": "stream",
     "text": [
      "A \n",
      "B C \n",
      "C D E \n",
      "D E F G \n",
      "E F G H I \n",
      "F G H I J K \n",
      "G H I J K L M \n"
     ]
    }
   ],
   "source": [
    "row = 7 # int(input(\"Enter num of rows:  \"))\n",
    "\n",
    "char = 65\n",
    "for i in range(row):\n",
    "    schar = char\n",
    "    for j in range(i+1):\n",
    "        print(chr(schar), end=\" \")\n",
    "        schar += 1\n",
    "    char += 1\n",
    "    print()"
   ]
  },
  {
   "attachments": {},
   "cell_type": "markdown",
   "metadata": {},
   "source": [
    "## Slot F1"
   ]
  },
  {
   "attachments": {},
   "cell_type": "markdown",
   "metadata": {},
   "source": [
    "### Q1 - Income tax"
   ]
  },
  {
   "cell_type": "code",
   "execution_count": 120,
   "metadata": {},
   "outputs": [
    {
     "name": "stdout",
     "output_type": "stream",
     "text": [
      "Income tax = 27842.8\n"
     ]
    }
   ],
   "source": [
    "moni = 514214 # float(input(\"Enter income:  \"))\n",
    "\n",
    "if 0 > moni <= 250000:\n",
    "    tax = 0\n",
    "elif moni <= 500000:\n",
    "    tax = (moni - 250000)*0.1\n",
    "elif moni <= 750000:\n",
    "    tax = 250000*0.1 + (moni - 500000)*0.2\n",
    "elif moni > 750000:\n",
    "    tax = 250000*0.1 + 250000*0.2 + (moni - 750000)*0.3\n",
    "else:\n",
    "    print(\"Invalid input.\")\n",
    "    tax = None\n",
    "\n",
    "if tax or tax == 0:\n",
    "    print(f\"Income tax = {tax}\")"
   ]
  },
  {
   "attachments": {},
   "cell_type": "markdown",
   "metadata": {},
   "source": [
    "### Q2 - point inside rectangle"
   ]
  },
  {
   "cell_type": "code",
   "execution_count": 121,
   "metadata": {},
   "outputs": [
    {
     "name": "stdout",
     "output_type": "stream",
     "text": [
      "Point is inside the rectangle.\n"
     ]
    }
   ],
   "source": [
    "x = 50 # float(input(\"Enter x value of point:  \"))\n",
    "y = 50 # float(input(\"Enter y value of point:  \"))\n",
    "\n",
    "if 40 < x < 100 and 20 < y < 60:\n",
    "    print(\"Point is inside the rectangle.\")\n",
    "else:\n",
    "    print(\"Point is outside the rectangle.\")    "
   ]
  },
  {
   "attachments": {},
   "cell_type": "markdown",
   "metadata": {},
   "source": [
    "### Q3 - Queen knight collision"
   ]
  },
  {
   "cell_type": "code",
   "execution_count": 122,
   "metadata": {},
   "outputs": [
    {
     "name": "stdout",
     "output_type": "stream",
     "text": [
      "Collision.\n"
     ]
    }
   ],
   "source": [
    "x1 = 4 # int(input(\"Enter x position of Queen:  \"))\n",
    "y1 = 5 # int(input(\"Enter y position of Queen:  \"))\n",
    "x2 = 7 # int(input(\"Enter x position of Knight:  \"))\n",
    "y2 = 5 # int(input(\"Enter y position of Knight:  \"))\n",
    "\n",
    "if x1 <= 8 and y1 <=8 and x2<=8 and y2<=8:\n",
    "    if (x1 == x2) or (y1 == y2) or (abs(x1-x2) == abs(y1-y2)) or (abs(x1-x2)==1 and abs(y1-y2)==2) or (abs(x1-x2)==2 and abs(y1-y2)==1):\n",
    "        print(\"Collision.\")\n",
    "    else:\n",
    "        print(\"No collision.\")\n",
    "else:\n",
    "    print(\"Invalid position.\")"
   ]
  },
  {
   "attachments": {},
   "cell_type": "markdown",
   "metadata": {},
   "source": [
    "### Q4 - Combination"
   ]
  },
  {
   "cell_type": "code",
   "execution_count": 123,
   "metadata": {},
   "outputs": [
    {
     "name": "stdout",
     "output_type": "stream",
     "text": [
      "120\n"
     ]
    }
   ],
   "source": [
    "def fact(num):\n",
    "    if num == 0:\n",
    "        return 1\n",
    "    else:\n",
    "        return num*fact(num - 1)\n",
    "\n",
    "n = 10 # int(input(\"Enter n value:  \"))\n",
    "r = 3 # int(input(\"Enter r value:  \"))\n",
    "\n",
    "if 1 <= r <= n:\n",
    "    print(fact(n)//(fact(r)*fact(n-r)))\n",
    "else:\n",
    "    print(\"Invalid input\")"
   ]
  },
  {
   "attachments": {},
   "cell_type": "markdown",
   "metadata": {},
   "source": [
    "### Q5 - n times compounded money"
   ]
  },
  {
   "cell_type": "code",
   "execution_count": 124,
   "metadata": {},
   "outputs": [
    {
     "name": "stdout",
     "output_type": "stream",
     "text": [
      "23\n"
     ]
    }
   ],
   "source": [
    "principal = amount = 10000 # float(input(\"Enter amount:  \"))\n",
    "roi = 5 # int(input(\"Enter rate of interest:  \"))\n",
    "n = 1 # int(input(\"Number of times interest compounded per year:  \"))\n",
    "times = 3 # int(input(\"how many times (n): \"))\n",
    "final = times*amount\n",
    "years = 0\n",
    "\n",
    "while amount < final:\n",
    "    years += 1\n",
    "    amount = principal*(1+roi/(100*n))**(n*years)\n",
    "\n",
    "print(years)"
   ]
  },
  {
   "attachments": {},
   "cell_type": "markdown",
   "metadata": {},
   "source": [
    "## Slot G1"
   ]
  },
  {
   "attachments": {},
   "cell_type": "markdown",
   "metadata": {},
   "source": [
    "### Q1 - Happy number"
   ]
  },
  {
   "cell_type": "code",
   "execution_count": 125,
   "metadata": {},
   "outputs": [
    {
     "name": "stdout",
     "output_type": "stream",
     "text": [
      "Happy number\n"
     ]
    }
   ],
   "source": [
    "num = 13 # int(input(\"Enter number:  \"))\n",
    "\n",
    "sum = 0\n",
    "while num > 0 or sum > 9:\n",
    "    if num == 0:\n",
    "        num = sum\n",
    "        sum = 0\n",
    "    sum += (num % 10)**2\n",
    "    num //= 10\n",
    "\n",
    "print(\"Happy number\" if sum == 1 else \"Not a happy number\")"
   ]
  },
  {
   "attachments": {},
   "cell_type": "markdown",
   "metadata": {},
   "source": [
    "### Q1 (b) - Decimal to Octal (REPEAT C2 - Q1)"
   ]
  },
  {
   "attachments": {},
   "cell_type": "markdown",
   "metadata": {},
   "source": [
    "### Q2 (a) - Print seasons"
   ]
  },
  {
   "cell_type": "code",
   "execution_count": 126,
   "metadata": {},
   "outputs": [
    {
     "name": "stdout",
     "output_type": "stream",
     "text": [
      "Spring\n"
     ]
    }
   ],
   "source": [
    "mon = 5 # int(input(\"Enter month (in int): \"))\n",
    "\n",
    "if mon in [3, 4, 5]:\n",
    "    print(\"Spring\")\n",
    "elif mon in [6, 7, 8]:\n",
    "    print(\"Summer\")\n",
    "elif mon in [9, 10, 11]:\n",
    "    print(\"Autumn\")\n",
    "elif mon in [12, 1, 2]:\n",
    "    print(\"Winter\")\n",
    "else:\n",
    "    print(\"Invalid input.\")\n",
    "\n"
   ]
  },
  {
   "attachments": {},
   "cell_type": "markdown",
   "metadata": {},
   "source": [
    "### Q2 (b) - Ticket price"
   ]
  },
  {
   "cell_type": "code",
   "execution_count": 127,
   "metadata": {},
   "outputs": [
    {
     "name": "stdout",
     "output_type": "stream",
     "text": [
      "Ticket cost:   4065.25\n"
     ]
    }
   ],
   "source": [
    "num_tickets = 35 # int(input(\"Enter the no. of tickets:  \"))\n",
    "\n",
    "if num_tickets > 40 or num_tickets < 5:\n",
    "    print(\"Minimum of 5 and maximum of 40 tickets.\")\n",
    "else:\n",
    "    ref_check = 50 # 50 if input(\"Do you want refreshments (y/n):  \") == y else 0\n",
    "    coupon_check = 0.02 # 0.02 if input(\"Do you have a coupon (y/n):  \") == \"y\" else 0\n",
    "    disc = 0.1 #  0.1 if num_tickets > 20 else 0\n",
    "    circle = 75 # 150 if input(\"Enter the circle (k/q):  \") == \"q\" else 75\n",
    "    \n",
    "    cost = num_tickets*(circle)\n",
    "    cost = cost*( 1 - disc)\n",
    "    cost = cost*(1 - coupon_check)\n",
    "    cost = cost + num_tickets*ref_check\n",
    "\n",
    "    print(\"Ticket cost:  \", cost)\n"
   ]
  },
  {
   "attachments": {},
   "cell_type": "markdown",
   "metadata": {},
   "source": [
    "### Q3 - Two wheeler and Four wheeler"
   ]
  },
  {
   "cell_type": "code",
   "execution_count": 128,
   "metadata": {},
   "outputs": [
    {
     "name": "stdout",
     "output_type": "stream",
     "text": [
      "TW = 70, FW = 130\n"
     ]
    }
   ],
   "source": [
    "num_vehicles = 200 # int(input(\"Enter number of vehicles:  \"))\n",
    "num_wheels = 540 # int(input(\"Enter number of wheels:  \"))\n",
    "x = (4*num_vehicles-num_wheels)/2\n",
    "y = num_vehicles - x\n",
    "\n",
    "print(f\"TW = {int(y)}, FW = {int(x)}\")"
   ]
  },
  {
   "attachments": {},
   "cell_type": "markdown",
   "metadata": {},
   "source": [
    "### Q4 (a) - Pattern Question"
   ]
  },
  {
   "cell_type": "code",
   "execution_count": 129,
   "metadata": {},
   "outputs": [
    {
     "name": "stdout",
     "output_type": "stream",
     "text": [
      "\n",
      "A \n",
      "B C \n",
      "D E F \n",
      "G H I J \n",
      "K L M N O \n",
      "P Q R S T U \n"
     ]
    }
   ],
   "source": [
    "row = 7 # int(input(\"Enter num of rows:  \"))\n",
    "\n",
    "char = 65\n",
    "for i in range(row):\n",
    "    for j in range(i):\n",
    "        print(chr(char), end=\" \")\n",
    "        char += 1\n",
    "    print()"
   ]
  },
  {
   "attachments": {},
   "cell_type": "markdown",
   "metadata": {},
   "source": [
    "### Q4 (b) - Sum of carries"
   ]
  },
  {
   "cell_type": "code",
   "execution_count": 3,
   "metadata": {},
   "outputs": [
    {
     "name": "stdout",
     "output_type": "stream",
     "text": [
      "4\n"
     ]
    }
   ],
   "source": [
    "n1, n2 = 9999, 1 # [int(input(\"Enter number:  \")) for i in range(2)]\n",
    "carry = 0; a = 0\n",
    "\n",
    "while n1 != 0 or n2 != 0:\n",
    "    r1 = n1 % 10\n",
    "    r2 = n2 % 10\n",
    "    x = r1 + r2 + a\n",
    "    carry = carry + x // 10\n",
    "    n1 = n1 // 10\n",
    "    n2 = n2 // 10\n",
    "    a = x // 10\n",
    "\n",
    "\n",
    "print(carry)\n"
   ]
  },
  {
   "attachments": {},
   "cell_type": "markdown",
   "metadata": {},
   "source": [
    "### Q5 - Binary to decimal then check if prime"
   ]
  },
  {
   "cell_type": "code",
   "execution_count": 131,
   "metadata": {},
   "outputs": [
    {
     "name": "stdout",
     "output_type": "stream",
     "text": [
      "The number in decimal is 19 and it is Prime.\n"
     ]
    }
   ],
   "source": [
    "n = 10011 # int(input(\"Enter Number in binary:  \"))\n",
    "\n",
    "power = 0\n",
    "dec = 0\n",
    "while n != 0:\n",
    "    dec += (n % 10)*2**power\n",
    "    power += 1\n",
    "    n //= 10\n",
    "\n",
    "check = False\n",
    "for i in range(2, dec//2+1):\n",
    "    if dec % i == 0:\n",
    "        check = True\n",
    "        break\n",
    "\n",
    "if not check:\n",
    "    print(f\"The number in decimal is {dec} and it is Prime.\")\n",
    "else:\n",
    "    print(f\"The number in decimal is {dec} and it is not Prime.\")\n"
   ]
  },
  {
   "attachments": {},
   "cell_type": "markdown",
   "metadata": {},
   "source": [
    "## Slot G2"
   ]
  },
  {
   "attachments": {},
   "cell_type": "markdown",
   "metadata": {},
   "source": [
    "### Q1 (a) - Decimal to Octal (REPEAT C2 - Q1)"
   ]
  },
  {
   "attachments": {},
   "cell_type": "markdown",
   "metadata": {},
   "source": [
    "### Q2 (b) - Sum of digits of number is odd or even"
   ]
  },
  {
   "cell_type": "code",
   "execution_count": 10,
   "metadata": {},
   "outputs": [
    {
     "name": "stdout",
     "output_type": "stream",
     "text": [
      "Sum of digits is even.\n"
     ]
    }
   ],
   "source": [
    "def sum_of_digits_is_even(n):\n",
    "    sum = 0\n",
    "    while n != 0:\n",
    "        sum += n % 10\n",
    "        n //= 10\n",
    "    return True if sum % 2 == 0 else False\n",
    "\n",
    "n = 229867 # int(input(\"Enter number:  \"))\n",
    "if sum_of_digits_is_even(n):\n",
    "    print(\"Sum of digits is even.\")\n",
    "else:\n",
    "    print(\"Sum of digits is odd.\")"
   ]
  },
  {
   "attachments": {},
   "cell_type": "markdown",
   "metadata": {},
   "source": [
    "### Q3 - Income Tax"
   ]
  },
  {
   "cell_type": "code",
   "execution_count": 8,
   "metadata": {},
   "outputs": [
    {
     "name": "stdout",
     "output_type": "stream",
     "text": [
      "Income tax = 61300.0\n"
     ]
    }
   ],
   "source": [
    "def tax_calculator(moni):\n",
    "    if 0 > moni <= 300000:\n",
    "        return 0\n",
    "    elif moni <= 500000:\n",
    "        return (moni - 300000)*0.05\n",
    "    elif moni <= 1000000:\n",
    "        return 10000 + (moni - 500000)*0.2\n",
    "    elif moni > 1000000:\n",
    "        return 110000 + (moni - 1000000)*0.3\n",
    "    else:\n",
    "        print(\"Invalid input.\")\n",
    "        return None\n",
    "\n",
    "moni = 756500\n",
    "tax = tax_calculator(moni)\n",
    "if tax or tax == 0:\n",
    "    print(f\"Income tax = {tax}\")"
   ]
  },
  {
   "attachments": {},
   "cell_type": "markdown",
   "metadata": {},
   "source": [
    "### Q5 - Pattern Question (REPEAT OF E1 - Q5 (a))"
   ]
  },
  {
   "attachments": {},
   "cell_type": "markdown",
   "metadata": {},
   "source": [
    "## Slot G3"
   ]
  },
  {
   "attachments": {},
   "cell_type": "markdown",
   "metadata": {},
   "source": [
    "### Q1 (a) - Swap variables"
   ]
  },
  {
   "cell_type": "code",
   "execution_count": 11,
   "metadata": {},
   "outputs": [
    {
     "name": "stdout",
     "output_type": "stream",
     "text": [
      "a is 'ok' and b is 'world'.\n",
      "After swapping, a is 'world' and b is 'ok'.\n"
     ]
    }
   ],
   "source": [
    "def swap(wordA, wordB):\n",
    "    return wordB, wordA\n",
    "\n",
    "\n",
    "a = \"ok\"\n",
    "b = \"world\"\n",
    "\n",
    "print(f\"a is '{a}' and b is '{b}'.\")\n",
    "\n",
    "a, b = swap(a,b)\n",
    "\n",
    "print(f\"After swapping, a is '{a}' and b is '{b}'.\")\n"
   ]
  },
  {
   "attachments": {},
   "cell_type": "markdown",
   "metadata": {},
   "source": [
    "### Q1 (b) - Fibonacci Series (REPEAT D2 - Q1)"
   ]
  },
  {
   "attachments": {},
   "cell_type": "markdown",
   "metadata": {},
   "source": [
    "### Q2 (a) - Output on basis of range"
   ]
  },
  {
   "cell_type": "code",
   "execution_count": 13,
   "metadata": {},
   "outputs": [
    {
     "name": "stdout",
     "output_type": "stream",
     "text": [
      "ALL COLOURS ARE BEAUTIFUL\n"
     ]
    }
   ],
   "source": [
    "def output_color_ok(n):\n",
    "    if 5 < n < 15:\n",
    "        return(\"GREEN\")\n",
    "    elif 15 < n < 25:\n",
    "        return(\"BLUE\")\n",
    "    elif 25 < n < 35:\n",
    "        return(\"ORANGE\")\n",
    "    else:\n",
    "        return(\"ALL COLOURS ARE BEAUTIFUL\")\n",
    "\n",
    "\n",
    "n = 37 # int(input(\"Enter num:  \"))\n",
    "print(output_color_ok(n))"
   ]
  },
  {
   "attachments": {},
   "cell_type": "markdown",
   "metadata": {},
   "source": [
    "### Q2 (b) - Calculator"
   ]
  },
  {
   "cell_type": "code",
   "execution_count": 6,
   "metadata": {},
   "outputs": [
    {
     "name": "stdout",
     "output_type": "stream",
     "text": [
      "5 * 2 = 10\n"
     ]
    }
   ],
   "source": [
    "def calculator(num1, num2, operator):\n",
    "    if operator == \"+\":\n",
    "        return num1 + num2\n",
    "    elif operator == \"-\":\n",
    "        return num1 - num2\n",
    "    elif operator == \"*\":\n",
    "        return num1 * num2\n",
    "    elif operator == \"/\":\n",
    "        return num1 / num2\n",
    "    else:\n",
    "        return \"Invalid operator\"\n",
    "\n",
    "# Example usage\n",
    "num1 = 5\n",
    "num2 = 2\n",
    "operator = \"*\"\n",
    "result = calculator(num1, num2, operator)\n",
    "print(f\"{num1} {operator} {num2} = {result}\" if result != \"Invalid operator\" else \"Invalid operator\")"
   ]
  },
  {
   "attachments": {},
   "cell_type": "markdown",
   "metadata": {},
   "source": [
    "### Q4 (b) - Pattern Question"
   ]
  },
  {
   "cell_type": "code",
   "execution_count": 137,
   "metadata": {},
   "outputs": [
    {
     "name": "stdout",
     "output_type": "stream",
     "text": [
      "*\n",
      "**\n",
      "***\n",
      "****\n",
      "*****\n",
      "******\n"
     ]
    }
   ],
   "source": [
    "row = 6 # int(input(\"Enter num of rows:  \"))\n",
    "\n",
    "for i in range(1, row+1):\n",
    "    for j in range(i):\n",
    "        print(end=\"*\")\n",
    "    print()"
   ]
  },
  {
   "attachments": {},
   "cell_type": "markdown",
   "metadata": {},
   "source": [
    "### Q5 (a) - print all char of \"HELLO\" using for and while loop"
   ]
  },
  {
   "cell_type": "code",
   "execution_count": 138,
   "metadata": {},
   "outputs": [
    {
     "name": "stdout",
     "output_type": "stream",
     "text": [
      "H\n",
      "E\n",
      "L\n",
      "L\n",
      "O\n",
      "H\n",
      "E\n",
      "L\n",
      "L\n",
      "O\n"
     ]
    }
   ],
   "source": [
    "stri = \"HELLO\"\n",
    "\n",
    "for i in stri:\n",
    "    print(i)\n",
    "\n",
    "num = 0\n",
    "while num != len(stri):\n",
    "    print(stri[num])\n",
    "    num += 1"
   ]
  }
 ],
 "metadata": {
  "kernelspec": {
   "display_name": "Python 3",
   "language": "python",
   "name": "python3"
  },
  "language_info": {
   "codemirror_mode": {
    "name": "ipython",
    "version": 3
   },
   "file_extension": ".py",
   "mimetype": "text/x-python",
   "name": "python",
   "nbconvert_exporter": "python",
   "pygments_lexer": "ipython3",
   "version": "3.11.0 (main, Oct 24 2022, 18:26:48) [MSC v.1933 64 bit (AMD64)]"
  },
  "orig_nbformat": 4,
  "vscode": {
   "interpreter": {
    "hash": "c261aea317cc0286b3b3261fbba9abdec21eaa57589985bb7a274bf54d6cc0a7"
   }
  }
 },
 "nbformat": 4,
 "nbformat_minor": 2
}
